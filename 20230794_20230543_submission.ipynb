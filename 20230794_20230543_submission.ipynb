{
 "cells": [
  {
   "cell_type": "markdown",
   "metadata": {
    "application/vnd.databricks.v1+cell": {
     "cellMetadata": {
      "byteLimit": 2048000,
      "rowLimit": 10000
     },
     "inputWidgets": {},
     "nuid": "24600a6e-84d7-4ff9-b591-7b138fc4f54c",
     "showTitle": false,
     "title": ""
    }
   },
   "source": [
    "# Six Degrees of Kevin Bacon\n",
    "**Introduction** - Six Degrees of Kevin Bacon is a game based on the \"six degrees of separation\"\n",
    "concept, which posits that any two people on Earth are six or fewer acquaintance links apart. Movie\n",
    "buffs challenge each other to find the shortest path between an arbitrary actor and prolific actor\n",
    "Kevin Bacon. It rests on the assumption that anyone involved in the film industry can be linked\n",
    "through their film roles to Bacon within six steps.\n",
    "The analysis of social networks can be a computationally intensive task, especially when dealing with\n",
    "large volumes of data. It is also a challenging problem to devise a correct methodology to infer an\n",
    "informative social network structure. Here, we will analyze a social network of actors and actresses\n",
    "that co-participated in movies. We will do some simple descriptive analysis, and in the end try to\n",
    "relate an actor/actress’s position in the social network with the success of the movies in which they\n",
    "participate.\n",
    "\n",
    "#### Rules & Notes - Please take your time to read the following points:\n",
    "\n",
    "1. The submission deadline shall be set for the 10th of June at 23:59.\n",
    "2. It is acceptable that you **discuss** with your colleagues different approaches to solve each step of the problem set. You are responsible for writing your own code, and analysing the results. Clear cases of cheating will be penalized with 0 points in this assignment;\n",
    "3. After review of your submission files, and before a mark is attributed, you might be called to orally defend your submission;\n",
    "4. You will be scored first and foremost by the number of correct answers, secondly by the logic used in the trying to approach each step of the problem set;\n",
    "5. Consider skipping questions that you are stuck in, and get back to them later;\n",
    "6. Expect computations to take a few minutes to finish in some of the steps.\n",
    "7. **IMPORTANT** It is expected you have developed skills beyond writting SQL queries. Any question where you directly write a SQL query (then for example create a temporary table and use spark.sql to pass the query) will receive a 25% penalty. Using the Spark syntax (for example dataframe.select(\"\\*\").where(\"conditions\")) is acceptable and does not incur this penalty. Comment your code in a reasonable fashion.\n",
    "8. **Questions** – Any questions about this assignment should be posted in the Forum@Moodle. The last class will be an open office session for anyone with questions concerning the assignment. \n",
    "9. **Delivery** - To fulfil this activity you will have to upload the following materials to Moodle:\n",
    "    1. An exported IPython notebook. The notebook should be solved (have results displayed), but should contain all neccesary code so that when the notebook is run in databricks it should also replicate these results. This means the all data downloading and processing should be done in this notebook. It is also important you clearly indicate where your final answer to each question is when you are using multiple cells (for example you print \"my final anwser is\" before your answer or use cell comments). Please make sure to name your file in the following way: *[student_number1]_[student_number2]_submission.ipynb*. As an example: *19740001_197400010_submission.ipynb*\n",
    "    2. **Delivery** - You will also need to provide a signed statement of authorship, which is present in the last page;\n",
    "    3. It is recommended you read the whole assignment before starting.\n",
    "    4. You can add as many cells as you like to answer the questions.\n",
    "    5. You can make use of caching or persisting your RDDs or Dataframes, this may speed up performance.\n",
    "    6. If you have trouble with graphframes in databricks (specifically the import statement) you need to make sure the graphframes package is installed on the cluster you are running. If you click home on the left, then click on the graphframes library, from where you can install the package on your cluster (check the graphframes checkbox and click install). Another installation option is using the JAR available on Moodle with the graphframes library.\n",
    "10. **Note**: By including the name and student number of each group member  in the submission notebook, this will be considered as a declaration of authorship.\n",
    "\n",
    "#### Data Sources and Description\n",
    "We will use data from IMDB. You can download raw datafiles\n",
    "from https://datasets.imdbws.com. Note that the files are tab delimited (.tsv) You can find a\n",
    "description of the each datafile in https://www.imdb.com/interfaces/"
   ]
  },
  {
   "cell_type": "markdown",
   "metadata": {
    "application/vnd.databricks.v1+cell": {
     "cellMetadata": {},
     "inputWidgets": {},
     "nuid": "381a3326-e8c7-456e-8cab-dfefb0d16a2d",
     "showTitle": false,
     "title": ""
    }
   },
   "source": [
    "## Authors\n",
    "Carlos Rodrigues - 20230543\n",
    "\n",
    "Devora Cavaleiro - 20230794"
   ]
  },
  {
   "cell_type": "markdown",
   "metadata": {
    "application/vnd.databricks.v1+cell": {
     "cellMetadata": {
      "byteLimit": 2048000,
      "rowLimit": 10000
     },
     "inputWidgets": {},
     "nuid": "39827279-2cb4-46ad-a17b-6d10a9c574f9",
     "showTitle": false,
     "title": ""
    }
   },
   "source": [
    "## Questions\n",
    "### Data loading and preperation\n",
    "Review the file descriptions and load the necessary data onto your databricks cluser and into spark dataframes. You will need to use shell commands to download the data, unzip the data, load the data into spark. Note that the data might require parsing and preprocessing to be ready for the questions below.\n",
    "\n",
    "**Hints** You can use 'gunzip' to unzip the .tz files. The data files will then be tab seperated (.tsv), which you can load into a dataframe using the tab seperated option instead of the comma seperated option we have typically used in class: `.option(“sep”,”\\t”)`"
   ]
  },
  {
   "cell_type": "markdown",
   "metadata": {
    "application/vnd.databricks.v1+cell": {
     "cellMetadata": {
      "byteLimit": 2048000,
      "rowLimit": 10000
     },
     "inputWidgets": {},
     "nuid": "8911cb64-3df5-482d-9cbb-5d1a3ae20839",
     "showTitle": false,
     "title": ""
    }
   },
   "source": [
    "# Cluster configuration\n",
    "\n",
    "We've used a cluster wth the library \"graphframes\" installed."
   ]
  },
  {
   "cell_type": "code",
   "execution_count": null,
   "metadata": {
    "application/vnd.databricks.v1+cell": {
     "cellMetadata": {
      "byteLimit": 2048000,
      "rowLimit": 10000
     },
     "inputWidgets": {},
     "nuid": "681333b0-b12f-4d20-a460-4af3c8c128c9",
     "showTitle": false,
     "title": ""
    }
   },
   "outputs": [],
   "source": [
    "import os\n",
    "from itertools import combinations\n",
    "from pyspark.sql import functions as f\n",
    "from pyspark.sql.functions import col, collect_list\n",
    "from graphframes import *\n",
    "from pyspark.sql.types import *\n",
    "from pyspark.sql import Row\n",
    "from pyspark.sql import SparkSession\n",
    "from pyspark.ml.linalg import Vectors\n",
    "from pyspark.ml.feature import MinMaxScaler\n",
    "from pyspark.ml import Pipeline\n",
    "import pyspark.ml.feature as MF\n",
    "from pyspark.ml.regression import LinearRegression\n",
    "from pyspark.ml.evaluation import RegressionEvaluator\n",
    "from pyspark.ml.regression import RandomForestRegressor\n",
    "from pyspark.ml.regression import GBTRegressor\n",
    "from pyspark.ml.tuning import ParamGridBuilder\n",
    "from pyspark.ml.tuning import CrossValidator"
   ]
  },
  {
   "cell_type": "markdown",
   "metadata": {
    "application/vnd.databricks.v1+cell": {
     "cellMetadata": {
      "byteLimit": 2048000,
      "rowLimit": 10000
     },
     "inputWidgets": {},
     "nuid": "fa748a4b-1605-400b-997c-d607ce1e6ec0",
     "showTitle": false,
     "title": ""
    }
   },
   "source": [
    "# Download and persist files into DBFS"
   ]
  },
  {
   "cell_type": "code",
   "execution_count": null,
   "metadata": {
    "application/vnd.databricks.v1+cell": {
     "cellMetadata": {
      "byteLimit": 2048000,
      "rowLimit": 10000
     },
     "inputWidgets": {},
     "nuid": "a9ce8574-e9de-4412-8881-9c71bd7d2ac0",
     "showTitle": false,
     "title": ""
    }
   },
   "outputs": [],
   "source": [
    "spark = SparkSession.builder.appName(\"Project\").getOrCreate()"
   ]
  },
  {
   "cell_type": "code",
   "execution_count": null,
   "metadata": {
    "application/vnd.databricks.v1+cell": {
     "cellMetadata": {
      "byteLimit": 2048000,
      "rowLimit": 10000
     },
     "inputWidgets": {},
     "nuid": "f5c0aa59-8686-4d27-adee-b36afc6fb797",
     "showTitle": false,
     "title": ""
    }
   },
   "outputs": [],
   "source": [
    "def file_exists_dbfs(path):\n",
    "  try:\n",
    "    dbutils.fs.ls(path)\n",
    "    return True\n",
    "  except:\n",
    "      return False"
   ]
  },
  {
   "cell_type": "code",
   "execution_count": null,
   "metadata": {
    "application/vnd.databricks.v1+cell": {
     "cellMetadata": {
      "byteLimit": 2048000,
      "rowLimit": 10000
     },
     "inputWidgets": {},
     "nuid": "48951d0d-f457-4ca0-93d2-29697d7e268a",
     "showTitle": false,
     "title": ""
    }
   },
   "outputs": [],
   "source": [
    "def download_file_and_store_in_dbfs(url):\n",
    "  file_name = url.split('/')[-1]\n",
    "  unziped_file_name = file_name[:-3]\n",
    "  dbfs_file_path = \"/datasets/\" + unziped_file_name\n",
    "\n",
    "  if file_exists_dbfs(dbfs_file_path):\n",
    "    print(f\"File {dbfs_file_path} already exists in DBFS. Skipping...\")\n",
    "    return\n",
    "  \n",
    "  if os.path.isfile(f\"/dbfs/tmp/{file_name}\"):\n",
    "    print(f\"File {file_name} already exists. Skipping download...\")\n",
    "  else:    \n",
    "    print(f\"Downloading file from {url}...\")\n",
    "    get_ipython().run_cell_magic('sh', '', f'wget -O /dbfs/tmp/{file_name} {url}')\n",
    "\n",
    "  if os.path.isfile(f\"/dbfs/tmp/{unziped_file_name}\"):\n",
    "    print(f\"File {unziped_file_name} already exists. Skipping unziping...\")\n",
    "  else:\n",
    "    print(f\"Unziping file...\")\n",
    "    get_ipython().run_cell_magic('sh', '', f'gunzip /dbfs/tmp/{file_name}')\n",
    "\n",
    "  print(\"Copying file to DBFS...\")\n",
    "  dbutils.fs.mv(f\"dbfs:/tmp/{unziped_file_name}\", f\"dbfs:{dbfs_file_path}\")\n",
    "\n",
    "  print(\"Done!\")"
   ]
  },
  {
   "cell_type": "markdown",
   "metadata": {
    "application/vnd.databricks.v1+cell": {
     "cellMetadata": {
      "byteLimit": 2048000,
      "rowLimit": 10000
     },
     "inputWidgets": {},
     "nuid": "b66bbf22-24bc-4906-8ac5-b7eb02a5adb0",
     "showTitle": false,
     "title": ""
    }
   },
   "source": [
    "## title.principals.tsv.gz"
   ]
  },
  {
   "cell_type": "code",
   "execution_count": null,
   "metadata": {
    "application/vnd.databricks.v1+cell": {
     "cellMetadata": {
      "byteLimit": 2048000,
      "rowLimit": 10000
     },
     "inputWidgets": {},
     "nuid": "4c96c05b-6bdf-4805-a369-3191091e30dd",
     "showTitle": false,
     "title": ""
    },
    "vscode": {
     "languageId": "python"
    }
   },
   "outputs": [
    {
     "name": "stdout",
     "output_type": "stream",
     "text": [
      "File /datasets/title.principals.tsv already exists in DBFS. Skipping...\n"
     ]
    }
   ],
   "source": [
    "download_file_and_store_in_dbfs(\"https://datasets.imdbws.com/title.principals.tsv.gz\")"
   ]
  },
  {
   "cell_type": "markdown",
   "metadata": {
    "application/vnd.databricks.v1+cell": {
     "cellMetadata": {
      "byteLimit": 2048000,
      "rowLimit": 10000
     },
     "inputWidgets": {},
     "nuid": "73aaeacf-6f61-47a4-b563-38153b64949d",
     "showTitle": false,
     "title": ""
    }
   },
   "source": [
    "## title.basics.tsv.gz"
   ]
  },
  {
   "cell_type": "code",
   "execution_count": null,
   "metadata": {
    "application/vnd.databricks.v1+cell": {
     "cellMetadata": {
      "byteLimit": 2048000,
      "rowLimit": 10000
     },
     "inputWidgets": {},
     "nuid": "d335292b-4909-4be3-a2ba-ca55d68f0a4a",
     "showTitle": false,
     "title": ""
    }
   },
   "outputs": [
    {
     "name": "stdout",
     "output_type": "stream",
     "text": [
      "File /datasets/title.basics.tsv already exists in DBFS. Skipping...\n"
     ]
    }
   ],
   "source": [
    "download_file_and_store_in_dbfs(\"https://datasets.imdbws.com/title.basics.tsv.gz\")"
   ]
  },
  {
   "cell_type": "markdown",
   "metadata": {
    "application/vnd.databricks.v1+cell": {
     "cellMetadata": {
      "byteLimit": 2048000,
      "rowLimit": 10000
     },
     "inputWidgets": {},
     "nuid": "52420f96-e57c-4f73-afd5-4c17f9c1b368",
     "showTitle": false,
     "title": ""
    }
   },
   "source": [
    "## title.ratings.tsv.gz"
   ]
  },
  {
   "cell_type": "code",
   "execution_count": null,
   "metadata": {
    "application/vnd.databricks.v1+cell": {
     "cellMetadata": {
      "byteLimit": 2048000,
      "rowLimit": 10000
     },
     "inputWidgets": {},
     "nuid": "7e38fbb3-52d7-4d55-8d2b-368c96fa1796",
     "showTitle": false,
     "title": ""
    }
   },
   "outputs": [
    {
     "name": "stdout",
     "output_type": "stream",
     "text": [
      "File /datasets/title.ratings.tsv already exists in DBFS. Skipping...\n"
     ]
    }
   ],
   "source": [
    "download_file_and_store_in_dbfs(\"https://datasets.imdbws.com/title.ratings.tsv.gz\")"
   ]
  },
  {
   "cell_type": "markdown",
   "metadata": {
    "application/vnd.databricks.v1+cell": {
     "cellMetadata": {
      "byteLimit": 2048000,
      "rowLimit": 10000
     },
     "inputWidgets": {},
     "nuid": "32b57203-aaf9-48f0-8191-c8f93604b266",
     "showTitle": false,
     "title": ""
    }
   },
   "source": [
    "## name.basics.tsv.gz"
   ]
  },
  {
   "cell_type": "code",
   "execution_count": null,
   "metadata": {
    "application/vnd.databricks.v1+cell": {
     "cellMetadata": {
      "byteLimit": 2048000,
      "rowLimit": 10000
     },
     "inputWidgets": {},
     "nuid": "970573d3-5aa3-4edb-8d98-412754192d96",
     "showTitle": false,
     "title": ""
    }
   },
   "outputs": [
    {
     "name": "stdout",
     "output_type": "stream",
     "text": [
      "File /datasets/name.basics.tsv already exists in DBFS. Skipping...\n"
     ]
    }
   ],
   "source": [
    "download_file_and_store_in_dbfs(\"https://datasets.imdbws.com/name.basics.tsv.gz\")"
   ]
  },
  {
   "cell_type": "markdown",
   "metadata": {
    "application/vnd.databricks.v1+cell": {
     "cellMetadata": {
      "byteLimit": 2048000,
      "rowLimit": 10000
     },
     "inputWidgets": {},
     "nuid": "817d380f-45ab-4c54-a43e-53ac8acb3e80",
     "showTitle": false,
     "title": ""
    }
   },
   "source": [
    "The datasets **\"title.episode.tsv.gz\"**, **\"title.akas.tsv.gz\"** and **\"title.crew.tsv.gz\"** weren’t download, because during the analyse of the content provided, they aren't needed to solve the questions on this project."
   ]
  },
  {
   "cell_type": "markdown",
   "metadata": {
    "application/vnd.databricks.v1+cell": {
     "cellMetadata": {
      "byteLimit": 2048000,
      "rowLimit": 10000
     },
     "inputWidgets": {},
     "nuid": "46c6a438-d5ea-403c-ad27-1bb60498f702",
     "showTitle": false,
     "title": ""
    }
   },
   "source": [
    "# Data Cleaning and Pre-processing"
   ]
  },
  {
   "cell_type": "markdown",
   "metadata": {
    "application/vnd.databricks.v1+cell": {
     "cellMetadata": {
      "byteLimit": 2048000,
      "rowLimit": 10000
     },
     "inputWidgets": {},
     "nuid": "f6fbbf19-ab27-458f-ab01-67e56860e16b",
     "showTitle": false,
     "title": ""
    }
   },
   "source": [
    "## Title Principals Dataset"
   ]
  },
  {
   "cell_type": "code",
   "execution_count": null,
   "metadata": {
    "application/vnd.databricks.v1+cell": {
     "cellMetadata": {
      "byteLimit": 2048000,
      "rowLimit": 10000
     },
     "inputWidgets": {},
     "nuid": "e216ea74-8a42-4dc7-a6e9-64a53b89c325",
     "showTitle": false,
     "title": ""
    }
   },
   "outputs": [],
   "source": [
    "title_principals_df = spark.read \\\n",
    "    .format(\"csv\") \\\n",
    "    .options(inferSchema = \"True\", header = \"True\", sep = \"\\t\", nullValue='\\\\N') \\\n",
    "    .load(\"dbfs:/datasets/title.principals.tsv\")"
   ]
  },
  {
   "cell_type": "code",
   "execution_count": null,
   "metadata": {
    "application/vnd.databricks.v1+cell": {
     "cellMetadata": {
      "byteLimit": 2048000,
      "rowLimit": 10000
     },
     "inputWidgets": {},
     "nuid": "65c50fd4-fff7-4a78-98e4-57394ceba5d1",
     "showTitle": false,
     "title": ""
    }
   },
   "outputs": [
    {
     "data": {
      "text/html": [
       "<style scoped>\n",
       "  .table-result-container {\n",
       "    max-height: 300px;\n",
       "    overflow: auto;\n",
       "  }\n",
       "  table, th, td {\n",
       "    border: 1px solid black;\n",
       "    border-collapse: collapse;\n",
       "  }\n",
       "  th, td {\n",
       "    padding: 5px;\n",
       "  }\n",
       "  th {\n",
       "    text-align: left;\n",
       "  }\n",
       "</style><div class='table-result-container'><table class='table-result'><thead style='background-color: white'><tr><th>tconst</th><th>ordering</th><th>nconst</th><th>category</th><th>job</th><th>characters</th></tr></thead><tbody><tr><td>tt0000001</td><td>1</td><td>nm1588970</td><td>self</td><td>null</td><td>[\"Self\"]</td></tr><tr><td>tt0000001</td><td>2</td><td>nm0005690</td><td>director</td><td>null</td><td>null</td></tr><tr><td>tt0000001</td><td>3</td><td>nm0005690</td><td>producer</td><td>producer</td><td>null</td></tr><tr><td>tt0000001</td><td>4</td><td>nm0374658</td><td>cinematographer</td><td>director of photography</td><td>null</td></tr><tr><td>tt0000002</td><td>1</td><td>nm0721526</td><td>director</td><td>null</td><td>null</td></tr><tr><td>tt0000002</td><td>2</td><td>nm1335271</td><td>composer</td><td>null</td><td>null</td></tr><tr><td>tt0000003</td><td>1</td><td>nm0721526</td><td>director</td><td>null</td><td>null</td></tr><tr><td>tt0000003</td><td>2</td><td>nm1770680</td><td>producer</td><td>producer</td><td>null</td></tr><tr><td>tt0000003</td><td>3</td><td>nm0721526</td><td>producer</td><td>producer</td><td>null</td></tr><tr><td>tt0000003</td><td>4</td><td>nm1335271</td><td>composer</td><td>null</td><td>null</td></tr><tr><td>tt0000003</td><td>5</td><td>nm5442200</td><td>editor</td><td>editor</td><td>null</td></tr><tr><td>tt0000004</td><td>1</td><td>nm0721526</td><td>director</td><td>null</td><td>null</td></tr><tr><td>tt0000004</td><td>2</td><td>nm1335271</td><td>composer</td><td>null</td><td>null</td></tr><tr><td>tt0000005</td><td>1</td><td>nm0443482</td><td>actor</td><td>null</td><td>[\"Blacksmith\"]</td></tr><tr><td>tt0000005</td><td>2</td><td>nm0653042</td><td>actor</td><td>null</td><td>[\"Assistant\"]</td></tr><tr><td>tt0000005</td><td>3</td><td>nm0249379</td><td>producer</td><td>producer</td><td>null</td></tr><tr><td>tt0000007</td><td>1</td><td>nm0179163</td><td>actor</td><td>null</td><td>null</td></tr><tr><td>tt0000007</td><td>2</td><td>nm0183947</td><td>actor</td><td>null</td><td>null</td></tr><tr><td>tt0000007</td><td>3</td><td>nm0005690</td><td>director</td><td>null</td><td>null</td></tr><tr><td>tt0000007</td><td>4</td><td>nm0374658</td><td>director</td><td>null</td><td>null</td></tr></tbody></table></div>"
      ]
     },
     "metadata": {
      "application/vnd.databricks.v1+output": {
       "addedWidgets": {},
       "aggData": [],
       "aggError": "",
       "aggOverflow": false,
       "aggSchema": [],
       "aggSeriesLimitReached": false,
       "aggType": "",
       "arguments": {},
       "columnCustomDisplayInfos": {},
       "data": [
        [
         "tt0000001",
         1,
         "nm1588970",
         "self",
         null,
         "[\"Self\"]"
        ],
        [
         "tt0000001",
         2,
         "nm0005690",
         "director",
         null,
         null
        ],
        [
         "tt0000001",
         3,
         "nm0005690",
         "producer",
         "producer",
         null
        ],
        [
         "tt0000001",
         4,
         "nm0374658",
         "cinematographer",
         "director of photography",
         null
        ],
        [
         "tt0000002",
         1,
         "nm0721526",
         "director",
         null,
         null
        ],
        [
         "tt0000002",
         2,
         "nm1335271",
         "composer",
         null,
         null
        ],
        [
         "tt0000003",
         1,
         "nm0721526",
         "director",
         null,
         null
        ],
        [
         "tt0000003",
         2,
         "nm1770680",
         "producer",
         "producer",
         null
        ],
        [
         "tt0000003",
         3,
         "nm0721526",
         "producer",
         "producer",
         null
        ],
        [
         "tt0000003",
         4,
         "nm1335271",
         "composer",
         null,
         null
        ],
        [
         "tt0000003",
         5,
         "nm5442200",
         "editor",
         "editor",
         null
        ],
        [
         "tt0000004",
         1,
         "nm0721526",
         "director",
         null,
         null
        ],
        [
         "tt0000004",
         2,
         "nm1335271",
         "composer",
         null,
         null
        ],
        [
         "tt0000005",
         1,
         "nm0443482",
         "actor",
         null,
         "[\"Blacksmith\"]"
        ],
        [
         "tt0000005",
         2,
         "nm0653042",
         "actor",
         null,
         "[\"Assistant\"]"
        ],
        [
         "tt0000005",
         3,
         "nm0249379",
         "producer",
         "producer",
         null
        ],
        [
         "tt0000007",
         1,
         "nm0179163",
         "actor",
         null,
         null
        ],
        [
         "tt0000007",
         2,
         "nm0183947",
         "actor",
         null,
         null
        ],
        [
         "tt0000007",
         3,
         "nm0005690",
         "director",
         null,
         null
        ],
        [
         "tt0000007",
         4,
         "nm0374658",
         "director",
         null,
         null
        ]
       ],
       "datasetInfos": [],
       "dbfsResultPath": null,
       "isJsonSchema": true,
       "metadata": {},
       "overflow": false,
       "plotOptions": {
        "customPlotOptions": {},
        "displayType": "table",
        "pivotAggregation": null,
        "pivotColumns": null,
        "xColumns": null,
        "yColumns": null
       },
       "removedWidgets": [],
       "schema": [
        {
         "metadata": "{}",
         "name": "tconst",
         "type": "\"string\""
        },
        {
         "metadata": "{}",
         "name": "ordering",
         "type": "\"long\""
        },
        {
         "metadata": "{}",
         "name": "nconst",
         "type": "\"string\""
        },
        {
         "metadata": "{}",
         "name": "category",
         "type": "\"string\""
        },
        {
         "metadata": "{}",
         "name": "job",
         "type": "\"string\""
        },
        {
         "metadata": "{}",
         "name": "characters",
         "type": "\"string\""
        }
       ],
       "type": "table"
      }
     },
     "output_type": "display_data"
    }
   ],
   "source": [
    "display(title_principals_df.head(20))"
   ]
  },
  {
   "cell_type": "code",
   "execution_count": null,
   "metadata": {
    "application/vnd.databricks.v1+cell": {
     "cellMetadata": {
      "byteLimit": 2048000,
      "rowLimit": 10000
     },
     "inputWidgets": {},
     "nuid": "317d88af-9fa5-47bc-b577-594f94f2dab1",
     "showTitle": false,
     "title": ""
    }
   },
   "outputs": [
    {
     "name": "stdout",
     "output_type": "stream",
     "text": [
      "root\n",
      " |-- tconst: string (nullable = true)\n",
      " |-- ordering: integer (nullable = true)\n",
      " |-- nconst: string (nullable = true)\n",
      " |-- category: string (nullable = true)\n",
      " |-- job: string (nullable = true)\n",
      " |-- characters: string (nullable = true)\n",
      "\n"
     ]
    }
   ],
   "source": [
    "title_principals_df.printSchema()"
   ]
  },
  {
   "cell_type": "markdown",
   "metadata": {
    "application/vnd.databricks.v1+cell": {
     "cellMetadata": {
      "byteLimit": 2048000,
      "rowLimit": 10000
     },
     "inputWidgets": {},
     "nuid": "c621afb0-5aa6-49fc-ae6f-6344a2a8ced7",
     "showTitle": false,
     "title": ""
    }
   },
   "source": [
    "## Title Basics Dataset"
   ]
  },
  {
   "cell_type": "code",
   "execution_count": null,
   "metadata": {
    "application/vnd.databricks.v1+cell": {
     "cellMetadata": {
      "byteLimit": 2048000,
      "rowLimit": 10000
     },
     "inputWidgets": {},
     "nuid": "9b568c08-580e-4227-8c29-2e046162d3d9",
     "showTitle": false,
     "title": ""
    }
   },
   "outputs": [],
   "source": [
    "title_basics_df = spark.read \\\n",
    "    .format(\"csv\") \\\n",
    "    .options(inferSchema = \"True\", header = \"True\", sep = \"\\t\", nullValue='\\\\N') \\\n",
    "    .load(\"dbfs:/datasets/title.basics.tsv\")"
   ]
  },
  {
   "cell_type": "code",
   "execution_count": null,
   "metadata": {
    "application/vnd.databricks.v1+cell": {
     "cellMetadata": {
      "byteLimit": 2048000,
      "rowLimit": 10000
     },
     "inputWidgets": {},
     "nuid": "87f9b705-6c4f-4f2e-b754-aa69fcf08116",
     "showTitle": false,
     "title": ""
    }
   },
   "outputs": [
    {
     "name": "stdout",
     "output_type": "stream",
     "text": [
      "+---------+---------+--------------------+--------------------+-------+---------+-------+--------------+--------------------+\n",
      "|   tconst|titleType|        primaryTitle|       originalTitle|isAdult|startYear|endYear|runtimeMinutes|              genres|\n",
      "+---------+---------+--------------------+--------------------+-------+---------+-------+--------------+--------------------+\n",
      "|tt0000001|    short|          Carmencita|          Carmencita|      0|     1894|   null|             1|   Documentary,Short|\n",
      "|tt0000002|    short|Le clown et ses c...|Le clown et ses c...|      0|     1892|   null|             5|     Animation,Short|\n",
      "|tt0000003|    short|      Pauvre Pierrot|      Pauvre Pierrot|      0|     1892|   null|             5|Animation,Comedy,...|\n",
      "|tt0000004|    short|         Un bon bock|         Un bon bock|      0|     1892|   null|            12|     Animation,Short|\n",
      "|tt0000005|    short|    Blacksmith Scene|    Blacksmith Scene|      0|     1893|   null|             1|        Comedy,Short|\n",
      "|tt0000006|    short|   Chinese Opium Den|   Chinese Opium Den|      0|     1894|   null|             1|               Short|\n",
      "|tt0000007|    short|Corbett and Court...|Corbett and Court...|      0|     1894|   null|             1|         Short,Sport|\n",
      "|tt0000008|    short|Edison Kinetoscop...|Edison Kinetoscop...|      0|     1894|   null|             1|   Documentary,Short|\n",
      "|tt0000009|    movie|          Miss Jerry|          Miss Jerry|      0|     1894|   null|            45|             Romance|\n",
      "|tt0000010|    short| Leaving the Factory|La sortie de l'us...|      0|     1895|   null|             1|   Documentary,Short|\n",
      "|tt0000011|    short|Akrobatisches Pot...|Akrobatisches Pot...|      0|     1895|   null|             1|   Documentary,Short|\n",
      "|tt0000012|    short|The Arrival of a ...|L'arrivée d'un tr...|      0|     1896|   null|             1|   Documentary,Short|\n",
      "|tt0000013|    short|The Photographica...|Le débarquement d...|      0|     1895|   null|             1|   Documentary,Short|\n",
      "|tt0000014|    short| The Waterer Watered|   L'arroseur arrosé|      0|     1895|   null|             1|        Comedy,Short|\n",
      "|tt0000015|    short| Autour d'une cabine| Autour d'une cabine|      0|     1894|   null|             2|     Animation,Short|\n",
      "|tt0000016|    short|Boat Leaving the ...|Barque sortant du...|      0|     1895|   null|             1|   Documentary,Short|\n",
      "|tt0000017|    short|Italienischer Bau...|Italienischer Bau...|      0|     1895|   null|             1|   Documentary,Short|\n",
      "|tt0000018|    short|Das boxende Känguruh|Das boxende Känguruh|      0|     1895|   null|             1|               Short|\n",
      "|tt0000019|    short|    The Clown Barber|    The Clown Barber|      0|     1898|   null|          null|        Comedy,Short|\n",
      "|tt0000020|    short|      The Derby 1895|      The Derby 1895|      0|     1895|   null|             1|Documentary,Short...|\n",
      "+---------+---------+--------------------+--------------------+-------+---------+-------+--------------+--------------------+\n",
      "only showing top 20 rows\n",
      "\n"
     ]
    }
   ],
   "source": [
    "title_basics_df.show(20)"
   ]
  },
  {
   "cell_type": "code",
   "execution_count": null,
   "metadata": {
    "application/vnd.databricks.v1+cell": {
     "cellMetadata": {
      "byteLimit": 2048000,
      "rowLimit": 10000
     },
     "inputWidgets": {},
     "nuid": "8998e829-e016-4fd3-8838-0331835f72bc",
     "showTitle": false,
     "title": ""
    }
   },
   "outputs": [
    {
     "name": "stdout",
     "output_type": "stream",
     "text": [
      "root\n",
      " |-- tconst: string (nullable = true)\n",
      " |-- titleType: string (nullable = true)\n",
      " |-- primaryTitle: string (nullable = true)\n",
      " |-- originalTitle: string (nullable = true)\n",
      " |-- isAdult: integer (nullable = true)\n",
      " |-- startYear: integer (nullable = true)\n",
      " |-- endYear: integer (nullable = true)\n",
      " |-- runtimeMinutes: string (nullable = true)\n",
      " |-- genres: string (nullable = true)\n",
      "\n"
     ]
    }
   ],
   "source": [
    "title_basics_df.printSchema()"
   ]
  },
  {
   "cell_type": "markdown",
   "metadata": {
    "application/vnd.databricks.v1+cell": {
     "cellMetadata": {
      "byteLimit": 2048000,
      "rowLimit": 10000
     },
     "inputWidgets": {},
     "nuid": "ceda5f94-e128-4c7b-bb10-e3b2ae378ad4",
     "showTitle": false,
     "title": ""
    }
   },
   "source": [
    "Convert column `runtimeMinutes` from `string` to `integer`"
   ]
  },
  {
   "cell_type": "code",
   "execution_count": null,
   "metadata": {
    "application/vnd.databricks.v1+cell": {
     "cellMetadata": {
      "byteLimit": 2048000,
      "rowLimit": 10000
     },
     "inputWidgets": {},
     "nuid": "6930afdc-ecd1-4436-9010-c02f60a8b9f7",
     "showTitle": false,
     "title": ""
    }
   },
   "outputs": [
    {
     "name": "stdout",
     "output_type": "stream",
     "text": [
      "+---------+---------+--------------------+--------------------+-------+---------+-------+--------------+--------------------+\n",
      "|   tconst|titleType|        primaryTitle|       originalTitle|isAdult|startYear|endYear|runtimeMinutes|              genres|\n",
      "+---------+---------+--------------------+--------------------+-------+---------+-------+--------------+--------------------+\n",
      "|tt0000001|    short|          Carmencita|          Carmencita|      0|     1894|   null|             1|   Documentary,Short|\n",
      "|tt0000002|    short|Le clown et ses c...|Le clown et ses c...|      0|     1892|   null|             5|     Animation,Short|\n",
      "|tt0000003|    short|      Pauvre Pierrot|      Pauvre Pierrot|      0|     1892|   null|             5|Animation,Comedy,...|\n",
      "|tt0000004|    short|         Un bon bock|         Un bon bock|      0|     1892|   null|            12|     Animation,Short|\n",
      "|tt0000005|    short|    Blacksmith Scene|    Blacksmith Scene|      0|     1893|   null|             1|        Comedy,Short|\n",
      "|tt0000006|    short|   Chinese Opium Den|   Chinese Opium Den|      0|     1894|   null|             1|               Short|\n",
      "|tt0000007|    short|Corbett and Court...|Corbett and Court...|      0|     1894|   null|             1|         Short,Sport|\n",
      "|tt0000008|    short|Edison Kinetoscop...|Edison Kinetoscop...|      0|     1894|   null|             1|   Documentary,Short|\n",
      "|tt0000009|    movie|          Miss Jerry|          Miss Jerry|      0|     1894|   null|            45|             Romance|\n",
      "|tt0000010|    short| Leaving the Factory|La sortie de l'us...|      0|     1895|   null|             1|   Documentary,Short|\n",
      "|tt0000011|    short|Akrobatisches Pot...|Akrobatisches Pot...|      0|     1895|   null|             1|   Documentary,Short|\n",
      "|tt0000012|    short|The Arrival of a ...|L'arrivée d'un tr...|      0|     1896|   null|             1|   Documentary,Short|\n",
      "|tt0000013|    short|The Photographica...|Le débarquement d...|      0|     1895|   null|             1|   Documentary,Short|\n",
      "|tt0000014|    short| The Waterer Watered|   L'arroseur arrosé|      0|     1895|   null|             1|        Comedy,Short|\n",
      "|tt0000015|    short| Autour d'une cabine| Autour d'une cabine|      0|     1894|   null|             2|     Animation,Short|\n",
      "|tt0000016|    short|Boat Leaving the ...|Barque sortant du...|      0|     1895|   null|             1|   Documentary,Short|\n",
      "|tt0000017|    short|Italienischer Bau...|Italienischer Bau...|      0|     1895|   null|             1|   Documentary,Short|\n",
      "|tt0000018|    short|Das boxende Känguruh|Das boxende Känguruh|      0|     1895|   null|             1|               Short|\n",
      "|tt0000019|    short|    The Clown Barber|    The Clown Barber|      0|     1898|   null|          null|        Comedy,Short|\n",
      "|tt0000020|    short|      The Derby 1895|      The Derby 1895|      0|     1895|   null|             1|Documentary,Short...|\n",
      "+---------+---------+--------------------+--------------------+-------+---------+-------+--------------+--------------------+\n",
      "only showing top 20 rows\n",
      "\n"
     ]
    }
   ],
   "source": [
    "title_basics_df = title_basics_df.withColumn(\"runtimeMinutes\", col(\"runtimeMinutes\").cast(IntegerType()))\n",
    "title_basics_df.show(20)"
   ]
  },
  {
   "cell_type": "code",
   "execution_count": null,
   "metadata": {
    "application/vnd.databricks.v1+cell": {
     "cellMetadata": {
      "byteLimit": 2048000,
      "rowLimit": 10000
     },
     "inputWidgets": {},
     "nuid": "a650e36a-dea0-4709-985b-12c4fa96b645",
     "showTitle": false,
     "title": ""
    }
   },
   "outputs": [
    {
     "name": "stdout",
     "output_type": "stream",
     "text": [
      "root\n",
      " |-- tconst: string (nullable = true)\n",
      " |-- titleType: string (nullable = true)\n",
      " |-- primaryTitle: string (nullable = true)\n",
      " |-- originalTitle: string (nullable = true)\n",
      " |-- isAdult: integer (nullable = true)\n",
      " |-- startYear: integer (nullable = true)\n",
      " |-- endYear: integer (nullable = true)\n",
      " |-- runtimeMinutes: integer (nullable = true)\n",
      " |-- genres: string (nullable = true)\n",
      "\n"
     ]
    }
   ],
   "source": [
    "title_basics_df.printSchema()"
   ]
  },
  {
   "cell_type": "markdown",
   "metadata": {
    "application/vnd.databricks.v1+cell": {
     "cellMetadata": {
      "byteLimit": 2048000,
      "rowLimit": 10000
     },
     "inputWidgets": {},
     "nuid": "0e001993-c943-4227-b816-469042427e13",
     "showTitle": false,
     "title": ""
    }
   },
   "source": [
    "The `genres` column is string a comma-separated string. We need to process it and transform it into and array.\n",
    "\n",
    "We're also sorting the array to ensure that same genres combination with different ordering doesn't happen (eg: `['Drama', 'Romance']` and `['Romance','Drama']`)"
   ]
  },
  {
   "cell_type": "code",
   "execution_count": null,
   "metadata": {
    "application/vnd.databricks.v1+cell": {
     "cellMetadata": {
      "byteLimit": 2048000,
      "rowLimit": 10000
     },
     "inputWidgets": {},
     "nuid": "72e45660-917b-4a04-8061-c26e5adf6205",
     "showTitle": false,
     "title": ""
    }
   },
   "outputs": [],
   "source": [
    "title_basics_df_preprocessed = title_basics_df \\\n",
    "  .withColumn('genres', f.array_sort(f.split('genres', ',')))"
   ]
  },
  {
   "cell_type": "code",
   "execution_count": null,
   "metadata": {
    "application/vnd.databricks.v1+cell": {
     "cellMetadata": {
      "byteLimit": 2048000,
      "rowLimit": 10000
     },
     "inputWidgets": {},
     "nuid": "9fd998de-204b-45c0-9542-ee52f02c99c2",
     "showTitle": false,
     "title": ""
    }
   },
   "outputs": [
    {
     "name": "stdout",
     "output_type": "stream",
     "text": [
      "+---------+---------+--------------------+--------------------+-------+---------+-------+--------------+--------------------+\n",
      "|   tconst|titleType|        primaryTitle|       originalTitle|isAdult|startYear|endYear|runtimeMinutes|              genres|\n",
      "+---------+---------+--------------------+--------------------+-------+---------+-------+--------------+--------------------+\n",
      "|tt0000001|    short|          Carmencita|          Carmencita|      0|     1894|   null|             1|[Documentary, Short]|\n",
      "|tt0000002|    short|Le clown et ses c...|Le clown et ses c...|      0|     1892|   null|             5|  [Animation, Short]|\n",
      "|tt0000003|    short|      Pauvre Pierrot|      Pauvre Pierrot|      0|     1892|   null|             5|[Animation, Comed...|\n",
      "|tt0000004|    short|         Un bon bock|         Un bon bock|      0|     1892|   null|            12|  [Animation, Short]|\n",
      "|tt0000005|    short|    Blacksmith Scene|    Blacksmith Scene|      0|     1893|   null|             1|     [Comedy, Short]|\n",
      "|tt0000006|    short|   Chinese Opium Den|   Chinese Opium Den|      0|     1894|   null|             1|             [Short]|\n",
      "|tt0000007|    short|Corbett and Court...|Corbett and Court...|      0|     1894|   null|             1|      [Short, Sport]|\n",
      "|tt0000008|    short|Edison Kinetoscop...|Edison Kinetoscop...|      0|     1894|   null|             1|[Documentary, Short]|\n",
      "|tt0000009|    movie|          Miss Jerry|          Miss Jerry|      0|     1894|   null|            45|           [Romance]|\n",
      "|tt0000010|    short| Leaving the Factory|La sortie de l'us...|      0|     1895|   null|             1|[Documentary, Short]|\n",
      "|tt0000011|    short|Akrobatisches Pot...|Akrobatisches Pot...|      0|     1895|   null|             1|[Documentary, Short]|\n",
      "|tt0000012|    short|The Arrival of a ...|L'arrivée d'un tr...|      0|     1896|   null|             1|[Documentary, Short]|\n",
      "|tt0000013|    short|The Photographica...|Le débarquement d...|      0|     1895|   null|             1|[Documentary, Short]|\n",
      "|tt0000014|    short| The Waterer Watered|   L'arroseur arrosé|      0|     1895|   null|             1|     [Comedy, Short]|\n",
      "|tt0000015|    short| Autour d'une cabine| Autour d'une cabine|      0|     1894|   null|             2|  [Animation, Short]|\n",
      "|tt0000016|    short|Boat Leaving the ...|Barque sortant du...|      0|     1895|   null|             1|[Documentary, Short]|\n",
      "|tt0000017|    short|Italienischer Bau...|Italienischer Bau...|      0|     1895|   null|             1|[Documentary, Short]|\n",
      "|tt0000018|    short|Das boxende Känguruh|Das boxende Känguruh|      0|     1895|   null|             1|             [Short]|\n",
      "|tt0000019|    short|    The Clown Barber|    The Clown Barber|      0|     1898|   null|          null|     [Comedy, Short]|\n",
      "|tt0000020|    short|      The Derby 1895|      The Derby 1895|      0|     1895|   null|             1|[Documentary, Sho...|\n",
      "+---------+---------+--------------------+--------------------+-------+---------+-------+--------------+--------------------+\n",
      "only showing top 20 rows\n",
      "\n"
     ]
    }
   ],
   "source": [
    "title_basics_df_preprocessed.show()"
   ]
  },
  {
   "cell_type": "code",
   "execution_count": null,
   "metadata": {
    "application/vnd.databricks.v1+cell": {
     "cellMetadata": {
      "byteLimit": 2048000,
      "rowLimit": 10000
     },
     "inputWidgets": {},
     "nuid": "bbe49b2c-2c63-4518-bb67-d38a5b7552d6",
     "showTitle": false,
     "title": ""
    }
   },
   "outputs": [
    {
     "name": "stdout",
     "output_type": "stream",
     "text": [
      "root\n",
      " |-- tconst: string (nullable = true)\n",
      " |-- titleType: string (nullable = true)\n",
      " |-- primaryTitle: string (nullable = true)\n",
      " |-- originalTitle: string (nullable = true)\n",
      " |-- isAdult: integer (nullable = true)\n",
      " |-- startYear: integer (nullable = true)\n",
      " |-- endYear: integer (nullable = true)\n",
      " |-- runtimeMinutes: integer (nullable = true)\n",
      " |-- genres: array (nullable = true)\n",
      " |    |-- element: string (containsNull = false)\n",
      "\n"
     ]
    }
   ],
   "source": [
    "title_basics_df_preprocessed.printSchema()"
   ]
  },
  {
   "cell_type": "markdown",
   "metadata": {
    "application/vnd.databricks.v1+cell": {
     "cellMetadata": {
      "byteLimit": 2048000,
      "rowLimit": 10000
     },
     "inputWidgets": {},
     "nuid": "89c8cfd4-d82b-4309-b7a0-a2731c4c2953",
     "showTitle": false,
     "title": ""
    }
   },
   "source": [
    "## Name basics Dataset"
   ]
  },
  {
   "cell_type": "code",
   "execution_count": null,
   "metadata": {
    "application/vnd.databricks.v1+cell": {
     "cellMetadata": {
      "byteLimit": 2048000,
      "rowLimit": 10000
     },
     "inputWidgets": {},
     "nuid": "2c6a87e4-d1fb-4e68-990e-fda98811339b",
     "showTitle": false,
     "title": ""
    }
   },
   "outputs": [
    {
     "data": {
      "text/html": [
       "<style scoped>\n",
       "  .table-result-container {\n",
       "    max-height: 300px;\n",
       "    overflow: auto;\n",
       "  }\n",
       "  table, th, td {\n",
       "    border: 1px solid black;\n",
       "    border-collapse: collapse;\n",
       "  }\n",
       "  th, td {\n",
       "    padding: 5px;\n",
       "  }\n",
       "  th {\n",
       "    text-align: left;\n",
       "  }\n",
       "</style><div class='table-result-container'><table class='table-result'><thead style='background-color: white'><tr><th>nconst</th><th>primaryName</th><th>birthYear</th><th>deathYear</th><th>primaryProfession</th><th>knownForTitles</th></tr></thead><tbody><tr><td>nm0000001</td><td>Fred Astaire</td><td>1899</td><td>1987</td><td>actor,miscellaneous,producer</td><td>tt0072308,tt0050419,tt0053137,tt0027125</td></tr><tr><td>nm0000002</td><td>Lauren Bacall</td><td>1924</td><td>2014</td><td>actress,soundtrack,archive_footage</td><td>tt0037382,tt0075213,tt0117057,tt0038355</td></tr><tr><td>nm0000003</td><td>Brigitte Bardot</td><td>1934</td><td>null</td><td>actress,music_department,producer</td><td>tt0057345,tt0049189,tt0056404,tt0054452</td></tr><tr><td>nm0000004</td><td>John Belushi</td><td>1949</td><td>1982</td><td>actor,writer,music_department</td><td>tt0072562,tt0077975,tt0080455,tt0078723</td></tr><tr><td>nm0000005</td><td>Ingmar Bergman</td><td>1918</td><td>2007</td><td>writer,director,actor</td><td>tt0050986,tt0083922,tt0050976,tt0069467</td></tr><tr><td>nm0000006</td><td>Ingrid Bergman</td><td>1915</td><td>1982</td><td>actress,producer,soundtrack</td><td>tt0034583,tt0036855,tt0038109,tt0038787</td></tr><tr><td>nm0000007</td><td>Humphrey Bogart</td><td>1899</td><td>1957</td><td>actor,producer,miscellaneous</td><td>tt0034583,tt0042593,tt0043265,tt0037382</td></tr><tr><td>nm0000008</td><td>Marlon Brando</td><td>1924</td><td>2004</td><td>actor,director,writer</td><td>tt0078788,tt0068646,tt0047296,tt0070849</td></tr><tr><td>nm0000009</td><td>Richard Burton</td><td>1925</td><td>1984</td><td>actor,producer,director</td><td>tt0061184,tt0087803,tt0059749,tt0057877</td></tr><tr><td>nm0000010</td><td>James Cagney</td><td>1899</td><td>1986</td><td>actor,director,producer</td><td>tt0029870,tt0031867,tt0042041,tt0035575</td></tr><tr><td>nm0000011</td><td>Gary Cooper</td><td>1901</td><td>1961</td><td>actor,stunts,producer</td><td>tt0044706,tt0034167,tt0035896,tt0027996</td></tr><tr><td>nm0000012</td><td>Bette Davis</td><td>1908</td><td>1989</td><td>actress,make_up_department,producer</td><td>tt0042192,tt0056687,tt0031210,tt0035140</td></tr><tr><td>nm0000013</td><td>Doris Day</td><td>1922</td><td>2019</td><td>actress,producer,miscellaneous</td><td>tt0048317,tt0045591,tt0053172,tt0049470</td></tr><tr><td>nm0000014</td><td>Olivia de Havilland</td><td>1916</td><td>2020</td><td>actress,soundtrack,archive_footage</td><td>tt0031381,tt0041452,tt0029843,tt0040806</td></tr><tr><td>nm0000015</td><td>James Dean</td><td>1931</td><td>1955</td><td>actor,miscellaneous,archive_footage</td><td>tt0048028,tt0048545,tt0049261,tt0040051</td></tr><tr><td>nm0000016</td><td>Georges Delerue</td><td>1925</td><td>1992</td><td>composer,music_department,actor</td><td>tt0091763,tt0096320,tt0069946,tt8847712</td></tr><tr><td>nm0000017</td><td>Marlene Dietrich</td><td>1901</td><td>1992</td><td>actress,music_department,soundtrack</td><td>tt0051201,tt0055031,tt0052311,tt0021156</td></tr><tr><td>nm0000018</td><td>Kirk Douglas</td><td>1916</td><td>2020</td><td>actor,producer,director</td><td>tt0080736,tt0054331,tt0049456,tt0050825</td></tr><tr><td>nm0000019</td><td>Federico Fellini</td><td>1920</td><td>1993</td><td>writer,director,actor</td><td>tt0050783,tt0056801,tt0053779,tt0071129</td></tr><tr><td>nm0000020</td><td>Henry Fonda</td><td>1905</td><td>1982</td><td>actor,producer,miscellaneous</td><td>tt0050083,tt0082846,tt0032551,tt0051207</td></tr></tbody></table></div>"
      ]
     },
     "metadata": {
      "application/vnd.databricks.v1+output": {
       "addedWidgets": {},
       "aggData": [],
       "aggError": "",
       "aggOverflow": false,
       "aggSchema": [],
       "aggSeriesLimitReached": false,
       "aggType": "",
       "arguments": {},
       "columnCustomDisplayInfos": {},
       "data": [
        [
         "nm0000001",
         "Fred Astaire",
         1899,
         1987,
         "actor,miscellaneous,producer",
         "tt0072308,tt0050419,tt0053137,tt0027125"
        ],
        [
         "nm0000002",
         "Lauren Bacall",
         1924,
         2014,
         "actress,soundtrack,archive_footage",
         "tt0037382,tt0075213,tt0117057,tt0038355"
        ],
        [
         "nm0000003",
         "Brigitte Bardot",
         1934,
         null,
         "actress,music_department,producer",
         "tt0057345,tt0049189,tt0056404,tt0054452"
        ],
        [
         "nm0000004",
         "John Belushi",
         1949,
         1982,
         "actor,writer,music_department",
         "tt0072562,tt0077975,tt0080455,tt0078723"
        ],
        [
         "nm0000005",
         "Ingmar Bergman",
         1918,
         2007,
         "writer,director,actor",
         "tt0050986,tt0083922,tt0050976,tt0069467"
        ],
        [
         "nm0000006",
         "Ingrid Bergman",
         1915,
         1982,
         "actress,producer,soundtrack",
         "tt0034583,tt0036855,tt0038109,tt0038787"
        ],
        [
         "nm0000007",
         "Humphrey Bogart",
         1899,
         1957,
         "actor,producer,miscellaneous",
         "tt0034583,tt0042593,tt0043265,tt0037382"
        ],
        [
         "nm0000008",
         "Marlon Brando",
         1924,
         2004,
         "actor,director,writer",
         "tt0078788,tt0068646,tt0047296,tt0070849"
        ],
        [
         "nm0000009",
         "Richard Burton",
         1925,
         1984,
         "actor,producer,director",
         "tt0061184,tt0087803,tt0059749,tt0057877"
        ],
        [
         "nm0000010",
         "James Cagney",
         1899,
         1986,
         "actor,director,producer",
         "tt0029870,tt0031867,tt0042041,tt0035575"
        ],
        [
         "nm0000011",
         "Gary Cooper",
         1901,
         1961,
         "actor,stunts,producer",
         "tt0044706,tt0034167,tt0035896,tt0027996"
        ],
        [
         "nm0000012",
         "Bette Davis",
         1908,
         1989,
         "actress,make_up_department,producer",
         "tt0042192,tt0056687,tt0031210,tt0035140"
        ],
        [
         "nm0000013",
         "Doris Day",
         1922,
         2019,
         "actress,producer,miscellaneous",
         "tt0048317,tt0045591,tt0053172,tt0049470"
        ],
        [
         "nm0000014",
         "Olivia de Havilland",
         1916,
         2020,
         "actress,soundtrack,archive_footage",
         "tt0031381,tt0041452,tt0029843,tt0040806"
        ],
        [
         "nm0000015",
         "James Dean",
         1931,
         1955,
         "actor,miscellaneous,archive_footage",
         "tt0048028,tt0048545,tt0049261,tt0040051"
        ],
        [
         "nm0000016",
         "Georges Delerue",
         1925,
         1992,
         "composer,music_department,actor",
         "tt0091763,tt0096320,tt0069946,tt8847712"
        ],
        [
         "nm0000017",
         "Marlene Dietrich",
         1901,
         1992,
         "actress,music_department,soundtrack",
         "tt0051201,tt0055031,tt0052311,tt0021156"
        ],
        [
         "nm0000018",
         "Kirk Douglas",
         1916,
         2020,
         "actor,producer,director",
         "tt0080736,tt0054331,tt0049456,tt0050825"
        ],
        [
         "nm0000019",
         "Federico Fellini",
         1920,
         1993,
         "writer,director,actor",
         "tt0050783,tt0056801,tt0053779,tt0071129"
        ],
        [
         "nm0000020",
         "Henry Fonda",
         1905,
         1982,
         "actor,producer,miscellaneous",
         "tt0050083,tt0082846,tt0032551,tt0051207"
        ]
       ],
       "datasetInfos": [],
       "dbfsResultPath": null,
       "isJsonSchema": true,
       "metadata": {},
       "overflow": false,
       "plotOptions": {
        "customPlotOptions": {},
        "displayType": "table",
        "pivotAggregation": null,
        "pivotColumns": null,
        "xColumns": null,
        "yColumns": null
       },
       "removedWidgets": [],
       "schema": [
        {
         "metadata": "{}",
         "name": "nconst",
         "type": "\"string\""
        },
        {
         "metadata": "{}",
         "name": "primaryName",
         "type": "\"string\""
        },
        {
         "metadata": "{}",
         "name": "birthYear",
         "type": "\"long\""
        },
        {
         "metadata": "{}",
         "name": "deathYear",
         "type": "\"long\""
        },
        {
         "metadata": "{}",
         "name": "primaryProfession",
         "type": "\"string\""
        },
        {
         "metadata": "{}",
         "name": "knownForTitles",
         "type": "\"string\""
        }
       ],
       "type": "table"
      }
     },
     "output_type": "display_data"
    }
   ],
   "source": [
    "name_basics_df = spark.read \\\n",
    "    .format(\"csv\") \\\n",
    "    .options(inferSchema = \"True\", header = \"True\", sep = \"\\t\", nullValue='\\\\N') \\\n",
    "    .load(\"dbfs:/datasets/name.basics.tsv\")\n",
    "\n",
    "display(name_basics_df.take(20))"
   ]
  },
  {
   "cell_type": "markdown",
   "metadata": {
    "application/vnd.databricks.v1+cell": {
     "cellMetadata": {
      "byteLimit": 2048000,
      "rowLimit": 10000
     },
     "inputWidgets": {},
     "nuid": "c06bc24f-1549-47b4-8708-5c763f92fa64",
     "showTitle": false,
     "title": ""
    }
   },
   "source": [
    "## Title ratings Dataset"
   ]
  },
  {
   "cell_type": "code",
   "execution_count": null,
   "metadata": {
    "application/vnd.databricks.v1+cell": {
     "cellMetadata": {
      "byteLimit": 2048000,
      "rowLimit": 10000
     },
     "inputWidgets": {},
     "nuid": "3cc050e6-69e0-4065-94f2-2d4e39e66e2a",
     "showTitle": false,
     "title": ""
    }
   },
   "outputs": [
    {
     "data": {
      "text/html": [
       "<style scoped>\n",
       "  .table-result-container {\n",
       "    max-height: 300px;\n",
       "    overflow: auto;\n",
       "  }\n",
       "  table, th, td {\n",
       "    border: 1px solid black;\n",
       "    border-collapse: collapse;\n",
       "  }\n",
       "  th, td {\n",
       "    padding: 5px;\n",
       "  }\n",
       "  th {\n",
       "    text-align: left;\n",
       "  }\n",
       "</style><div class='table-result-container'><table class='table-result'><thead style='background-color: white'><tr><th>tconst</th><th>averageRating</th><th>numVotes</th></tr></thead><tbody><tr><td>tt0000001</td><td>5.7</td><td>2059</td></tr><tr><td>tt0000002</td><td>5.6</td><td>277</td></tr><tr><td>tt0000003</td><td>6.5</td><td>2020</td></tr><tr><td>tt0000004</td><td>5.3</td><td>180</td></tr><tr><td>tt0000005</td><td>6.2</td><td>2786</td></tr><tr><td>tt0000006</td><td>5.1</td><td>187</td></tr><tr><td>tt0000007</td><td>5.4</td><td>872</td></tr><tr><td>tt0000008</td><td>5.4</td><td>2201</td></tr><tr><td>tt0000009</td><td>5.4</td><td>212</td></tr><tr><td>tt0000010</td><td>6.8</td><td>7587</td></tr><tr><td>tt0000011</td><td>5.2</td><td>389</td></tr><tr><td>tt0000012</td><td>7.4</td><td>12917</td></tr><tr><td>tt0000013</td><td>5.7</td><td>1971</td></tr><tr><td>tt0000014</td><td>7.1</td><td>5868</td></tr><tr><td>tt0000015</td><td>6.1</td><td>1183</td></tr><tr><td>tt0000016</td><td>5.9</td><td>1584</td></tr><tr><td>tt0000017</td><td>4.6</td><td>348</td></tr><tr><td>tt0000018</td><td>5.2</td><td>629</td></tr><tr><td>tt0000019</td><td>5.1</td><td>32</td></tr><tr><td>tt0000020</td><td>4.7</td><td>383</td></tr></tbody></table></div>"
      ]
     },
     "metadata": {
      "application/vnd.databricks.v1+output": {
       "addedWidgets": {},
       "aggData": [],
       "aggError": "",
       "aggOverflow": false,
       "aggSchema": [],
       "aggSeriesLimitReached": false,
       "aggType": "",
       "arguments": {},
       "columnCustomDisplayInfos": {},
       "data": [
        [
         "tt0000001",
         5.7,
         2059
        ],
        [
         "tt0000002",
         5.6,
         277
        ],
        [
         "tt0000003",
         6.5,
         2020
        ],
        [
         "tt0000004",
         5.3,
         180
        ],
        [
         "tt0000005",
         6.2,
         2786
        ],
        [
         "tt0000006",
         5.1,
         187
        ],
        [
         "tt0000007",
         5.4,
         872
        ],
        [
         "tt0000008",
         5.4,
         2201
        ],
        [
         "tt0000009",
         5.4,
         212
        ],
        [
         "tt0000010",
         6.8,
         7587
        ],
        [
         "tt0000011",
         5.2,
         389
        ],
        [
         "tt0000012",
         7.4,
         12917
        ],
        [
         "tt0000013",
         5.7,
         1971
        ],
        [
         "tt0000014",
         7.1,
         5868
        ],
        [
         "tt0000015",
         6.1,
         1183
        ],
        [
         "tt0000016",
         5.9,
         1584
        ],
        [
         "tt0000017",
         4.6,
         348
        ],
        [
         "tt0000018",
         5.2,
         629
        ],
        [
         "tt0000019",
         5.1,
         32
        ],
        [
         "tt0000020",
         4.7,
         383
        ]
       ],
       "datasetInfos": [],
       "dbfsResultPath": null,
       "isJsonSchema": true,
       "metadata": {},
       "overflow": false,
       "plotOptions": {
        "customPlotOptions": {},
        "displayType": "table",
        "pivotAggregation": null,
        "pivotColumns": null,
        "xColumns": null,
        "yColumns": null
       },
       "removedWidgets": [],
       "schema": [
        {
         "metadata": "{}",
         "name": "tconst",
         "type": "\"string\""
        },
        {
         "metadata": "{}",
         "name": "averageRating",
         "type": "\"double\""
        },
        {
         "metadata": "{}",
         "name": "numVotes",
         "type": "\"long\""
        }
       ],
       "type": "table"
      }
     },
     "output_type": "display_data"
    }
   ],
   "source": [
    "title_ratings_df = spark.read \\\n",
    "    .format(\"csv\") \\\n",
    "    .options(inferSchema = \"True\", header = \"True\", sep = \"\\t\", nullValue='\\\\N') \\\n",
    "    .load(\"dbfs:/datasets/title.ratings.tsv\")\n",
    "\n",
    "display(title_ratings_df.take(20))"
   ]
  },
  {
   "cell_type": "markdown",
   "metadata": {
    "application/vnd.databricks.v1+cell": {
     "cellMetadata": {
      "byteLimit": 2048000,
      "rowLimit": 10000
     },
     "inputWidgets": {},
     "nuid": "50afd245-0493-4900-9a44-f236a527d7aa",
     "showTitle": false,
     "title": ""
    }
   },
   "source": [
    "# Project questions"
   ]
  },
  {
   "cell_type": "markdown",
   "metadata": {
    "application/vnd.databricks.v1+cell": {
     "cellMetadata": {
      "byteLimit": 2048000,
      "rowLimit": 10000
     },
     "inputWidgets": {},
     "nuid": "d23201f4-8f5d-413d-a9ae-33e3d6d60cc6",
     "showTitle": false,
     "title": ""
    }
   },
   "source": [
    "### Network Inference, Let’s build a network\n",
    "In the following questions you will look to summarise the data and build a network. We want to examine a network that abstracts how actors and actress are related through their co-participation in movies. To that end perform the following steps:\n",
    "\n",
    "**Q1** Create a DataFrame that combines **all the information** on each of the titles (i.e., movies, tv-shows, etc …) and **all of the information** the participants in those movies (i.e., actors, directors, etc … ), make sure the actual names of the movies and participants are included. It may be worth reviewing the following questions to see how this dataframe will be used.\n",
    "\n",
    "How many rows does your dataframe have?"
   ]
  },
  {
   "cell_type": "code",
   "execution_count": null,
   "metadata": {
    "application/vnd.databricks.v1+cell": {
     "cellMetadata": {
      "byteLimit": 2048000,
      "rowLimit": 10000
     },
     "inputWidgets": {},
     "nuid": "24e83211-9e52-4c28-b5f2-5b51e8a35946",
     "showTitle": false,
     "title": ""
    },
    "vscode": {
     "languageId": "python"
    }
   },
   "outputs": [
    {
     "name": "stdout",
     "output_type": "stream",
     "text": [
      "+---------+---------+--------------------+---------+---------+--------------------+--------------------+--------+---------------+--------+--------------------+---------+--------------------+--------------------+-------+---------+-------+--------------+------------------+-------------+--------+\n",
      "|   tconst|   nconst|         primaryName|birthYear|deathYear|   primaryProfession|      knownForTitles|ordering|       category|     job|          characters|titleType|        primaryTitle|       originalTitle|isAdult|startYear|endYear|runtimeMinutes|            genres|averageRating|numVotes|\n",
      "+---------+---------+--------------------+---------+---------+--------------------+--------------------+--------+---------------+--------+--------------------+---------+--------------------+--------------------+-------+---------+-------+--------------+------------------+-------------+--------+\n",
      "|tt0000658|nm0169871|          Émile Cohl|     1857|     1938|director,animatio...|tt1003400,tt10034...|       1|       director|    null|                null|    short|The Puppet's Nigh...|Le cauchemar de F...|      0|     1908|   null|             2|[Animation, Short]|          6.4|     292|\n",
      "|tt0001732|nm0790137|     William E. Shay|     1866|     null|actor,archive_foo...|tt0326077,tt00051...|       1|          actor|    null|     [\"Bert Duncan\"]|    short|The Lighthouse Ke...|The Lighthouse Ke...|      0|     1911|   null|          null|    [Drama, Short]|          7.2|      19|\n",
      "|tt0001732|nm0681931|     Lottie Pickford|     1895|     1936|actress,archive_f...|tt0005302,tt00014...|       6|        actress|    null|   [\"Wedding Guest\"]|    short|The Lighthouse Ke...|The Lighthouse Ke...|      0|     1911|   null|          null|    [Drama, Short]|          7.2|      19|\n",
      "|tt0001732|nm0480674|        Carl Laemmle|     1867|     1939|producer,miscella...|tt0021884,tt00261...|       8|       producer|producer|                null|    short|The Lighthouse Ke...|The Lighthouse Ke...|      0|     1911|   null|          null|    [Drama, Short]|          7.2|      19|\n",
      "|tt0001732|nm0367556|         Jack Harvey|     1881|     1954|director,actor,wr...|tt0325458,tt00092...|       4|          actor|    null|      [\"Tom Atkins\"]|    short|The Lighthouse Ke...|The Lighthouse Ke...|      0|     1911|   null|          null|    [Drama, Short]|          7.2|      19|\n",
      "|tt0001732|nm0681933|       Mary Pickford|     1892|     1979|actress,producer,...|tt0019788,tt00160...|       2|        actress|    null|[\"Polly Berry - t...|    short|The Lighthouse Ke...|The Lighthouse Ke...|      0|     1911|   null|          null|    [Drama, Short]|          7.2|      19|\n",
      "|tt0001732|nm0532996|        Hayward Mack|     1882|     1921|actor,director,wr...|tt0012522,tt00016...|       5|          actor|    null|   [\"Wedding Guest\"]|    short|The Lighthouse Ke...|The Lighthouse Ke...|      0|     1911|   null|          null|    [Drama, Short]|          7.2|      19|\n",
      "|tt0001732|nm0408436|      Thomas H. Ince|     1880|     1924|producer,miscella...|tt0005193,tt00051...|       7|       director|    null|                null|    short|The Lighthouse Ke...|The Lighthouse Ke...|      0|     1911|   null|          null|    [Drama, Short]|          7.2|      19|\n",
      "|tt0001732|nm0531759|J. Farrell MacDonald|     1875|     1952|actor,director,so...|tt0018455,tt00387...|       3|          actor|    null|[\"Nat Berry - The...|    short|The Lighthouse Ke...|The Lighthouse Ke...|      0|     1911|   null|          null|    [Drama, Short]|          7.2|      19|\n",
      "|tt0002253|nm0262757|         Frank Evans|     1849|     1934|actor,archive_foo...|tt0362731,tt00014...|      10|          actor|    null|   [\"Outside Dance\"]|    short|          Home Folks|          Home Folks|      0|     1912|   null|            17|    [Drama, Short]|          5.1|      15|\n",
      "|tt0002253|nm0005658|         G.W. Bitzer|     1872|     1944|cinematographer,d...|tt0004972,tt00099...|      14|cinematographer|    null|                null|    short|          Home Folks|          Home Folks|      0|     1912|   null|            17|    [Drama, Short]|          5.1|      15|\n",
      "|tt0002253|nm0524306|       Wilfred Lucas|     1871|     1940|actor,director,wr...|tt0027977,tt00101...|       5|          actor|    null|  [\"The Blacksmith\"]|    short|          Home Folks|          Home Folks|      0|     1912|   null|            17|    [Drama, Short]|          5.1|      15|\n",
      "|tt0002253|nm0537556| Charles Hill Mailes|     1870|     1937|actor,archive_foo...|tt0011439,tt00055...|       2|          actor|    null|[\"The Young Woman...|    short|          Home Folks|          Home Folks|      0|     1912|   null|            17|    [Drama, Short]|          5.1|      15|\n",
      "|tt0002253|nm0043018|       Charles Avery|     1873|     1926|actor,director,as...|tt0004260,tt00068...|       8|          actor|    null|   [\"At Barn Dance\"]|    short|          Home Folks|          Home Folks|      0|     1912|   null|            17|    [Drama, Short]|          5.1|      15|\n",
      "|tt0002253|nm0366008|       Robert Harron|     1893|     1920|actor,art_departm...|tt0006864,tt00049...|       4|          actor|    null|[\"The Young Woman...|    short|          Home Folks|          Home Folks|      0|     1912|   null|            17|    [Drama, Short]|          5.1|      15|\n",
      "|tt0002253|nm0115524|          Kate Bruce|     1860|     1946|actress,archive_f...|tt0006745,tt00146...|       3|        actress|    null|[\"The Young Woman...|    short|          Home Folks|          Home Folks|      0|     1912|   null|            17|    [Drama, Short]|          5.1|      15|\n",
      "|tt0002253|nm0681933|       Mary Pickford|     1892|     1979|actress,producer,...|tt0019788,tt00160...|       1|        actress|    null| [\"The Young Woman\"]|    short|          Home Folks|          Home Folks|      0|     1912|   null|            17|    [Drama, Short]|          5.1|      15|\n",
      "|tt0002253|nm0000428|       D.W. Griffith|     1875|     1948|director,writer,p...|tt0004972,tt00068...|      12|       director|    null|                null|    short|          Home Folks|          Home Folks|      0|     1912|   null|            17|    [Drama, Short]|          5.1|      15|\n",
      "|tt0002253|nm0127511|     Christy Cabanne|     1888|     1950|director,actor,wr...|tt0008031,tt00101...|       6|          actor|    null|[\"The Blacksmith'...|    short|          Home Folks|          Home Folks|      0|     1912|   null|            17|    [Drama, Short]|          5.1|      15|\n",
      "|tt0002253|nm0127511|     Christy Cabanne|     1888|     1950|director,actor,wr...|tt0008031,tt00101...|       7|          actor|    null|   [\"At Barn Dance\"]|    short|          Home Folks|          Home Folks|      0|     1912|   null|            17|    [Drama, Short]|          5.1|      15|\n",
      "+---------+---------+--------------------+---------+---------+--------------------+--------------------+--------+---------------+--------+--------------------+---------+--------------------+--------------------+-------+---------+-------+--------------+------------------+-------------+--------+\n",
      "only showing top 20 rows\n",
      "\n"
     ]
    }
   ],
   "source": [
    "# Join both on 'nconst'\n",
    "actors_roles = name_basics_df.join(title_principals_df, \"nconst\", \"inner\")\n",
    "\n",
    "# Join previous table on 'tconst'\n",
    "actors_movie = actors_roles.join(title_basics_df_preprocessed, \"tconst\", \"inner\")\n",
    "\n",
    "# Now join with ratings, on 'tconst' as well\n",
    "actors_movie_rating = actors_movie.join(title_ratings_df, \"tconst\", \"inner\")\n",
    "\n",
    "# Final dataframe after joins\n",
    "actors_movie_rating.show()"
   ]
  },
  {
   "cell_type": "code",
   "execution_count": null,
   "metadata": {
    "application/vnd.databricks.v1+cell": {
     "cellMetadata": {
      "byteLimit": 2048000,
      "rowLimit": 10000
     },
     "inputWidgets": {},
     "nuid": "dffc72a6-6b21-47f3-80a9-d014fc8a23ca",
     "showTitle": false,
     "title": ""
    }
   },
   "outputs": [
    {
     "name": "stdout",
     "output_type": "stream",
     "text": [
      "The number of rows in the DataFrame is: 20090057\n"
     ]
    }
   ],
   "source": [
    "# Count the rows\n",
    "row_count = actors_movie_rating.count()\n",
    "print(f\"The number of rows in the DataFrame is: {row_count}\")"
   ]
  },
  {
   "cell_type": "code",
   "execution_count": null,
   "metadata": {
    "application/vnd.databricks.v1+cell": {
     "cellMetadata": {
      "byteLimit": 2048000,
      "rowLimit": 10000
     },
     "inputWidgets": {},
     "nuid": "6df7cd60-5989-48e1-937e-0bf3c24f48d9",
     "showTitle": false,
     "title": ""
    }
   },
   "outputs": [],
   "source": [
    "# save df into dbfs\n",
    "# actors_movie_rating.write.parquet(\"dbfs:/datasets/actors_movie_rating_parquet\")"
   ]
  },
  {
   "cell_type": "code",
   "execution_count": null,
   "metadata": {
    "application/vnd.databricks.v1+cell": {
     "cellMetadata": {
      "byteLimit": 2048000,
      "rowLimit": 10000
     },
     "inputWidgets": {},
     "nuid": "faeff58f-3850-4dfe-9e83-4ff38ce5f221",
     "showTitle": false,
     "title": ""
    }
   },
   "outputs": [],
   "source": [
    "# Load the file from dbfs into a df\n",
    "#actors_movie_rating = spark.read.parquet(\"dbfs:/datasets/actors_movie_rating_parquet\")"
   ]
  },
  {
   "cell_type": "markdown",
   "metadata": {
    "application/vnd.databricks.v1+cell": {
     "cellMetadata": {
      "byteLimit": 2048000,
      "rowLimit": 10000
     },
     "inputWidgets": {},
     "nuid": "82e468c2-355b-49a4-9091-6ff3c459a2c7",
     "showTitle": false,
     "title": ""
    }
   },
   "source": [
    "**Q2** Create a new DataFrame based on the previous step, with the following removed:\n",
    "1. Any participant that is not an actor or actress (as measured by the category column);\n",
    "1. All adult movies;\n",
    "1. All dead actors or actresses;\n",
    "1. All actors or actresses born before 1920 or with no date of birth listed;\n",
    "1. All titles that are not of the type movie.\n",
    "\n",
    "How many rows does your dataframe have?"
   ]
  },
  {
   "cell_type": "code",
   "execution_count": null,
   "metadata": {
    "application/vnd.databricks.v1+cell": {
     "cellMetadata": {
      "byteLimit": 2048000,
      "rowLimit": 10000
     },
     "inputWidgets": {},
     "nuid": "96cfc442-a01d-4be0-bd8e-0f7396fc12d2",
     "showTitle": false,
     "title": ""
    },
    "vscode": {
     "languageId": "python"
    }
   },
   "outputs": [
    {
     "name": "stdout",
     "output_type": "stream",
     "text": [
      "+---------+---------+--------------------+---------+---------+--------------------+--------------------+--------+--------+----+--------------------+---------+--------------------+--------------------+-------+---------+-------+--------------+--------------------+-------------+--------+\n",
      "|   tconst|   nconst|         primaryName|birthYear|deathYear|   primaryProfession|      knownForTitles|ordering|category| job|          characters|titleType|        primaryTitle|       originalTitle|isAdult|startYear|endYear|runtimeMinutes|              genres|averageRating|numVotes|\n",
      "+---------+---------+--------------------+---------+---------+--------------------+--------------------+--------+--------+----+--------------------+---------+--------------------+--------------------+-------+---------+-------+--------------+--------------------+-------------+--------+\n",
      "|tt0026455|nm0172237|    Cora Sue Collins|     1927|     null|  actress,soundtrack|tt0024895,tt00334...|      10| actress|null|   [\"Marian Foster\"]|    movie|        Harmony Lane|        Harmony Lane|      0|     1935|   null|            89|[Biography, Drama...|          5.8|     125|\n",
      "|tt0027663|nm1359047|         Lilo Bergen|     1922|     null|             actress|tt0248811,tt01299...|      10| actress|null|                null|    movie|Geheimnis eines a...|Geheimnis eines a...|      0|     1936|   null|            87|                null|          6.4|      16|\n",
      "|tt0028674|nm0124638|            Igor But|     1925|     null|               actor|tt0028674,tt37393...|       1|   actor|null|   [\"Gavrik, a boy\"]|    movie|The Lonely White ...|Beleet parus odin...|      0|     1937|   null|            92|         [Adventure]|          6.2|      96|\n",
      "|tt0029638|nm0038535|         Hazel Ascot|     1928|     null|             actress|tt0283010,tt00296...|       5| actress|null|    [\"Hazel Barker\"]|    movie|        Talking Feet|        Talking Feet|      0|     1937|   null|            79|           [Musical]|          6.1|      28|\n",
      "|tt0032160|nm0092008|    Jirina Bohdalová|     1931|     null|actress,writer,so...|tt0113027,tt01076...|       6| actress|null|[\"Dcerka zranenéh...|    movie|        Zlaty clovek|        Zlaty clovek|      0|     1939|   null|          null|             [Drama]|          5.2|      17|\n",
      "|tt0033006|nm0190681|     Erzsébet Cserba|     1920|     null|             actress| tt0033006,tt0032573|      10| actress|null|           [\"Terka\"]|    movie|          Rózsafabot|          Rózsafabot|      0|     1940|   null|            86|    [Drama, Romance]|          7.4|      40|\n",
      "|tt0033822|nm1168072|     Rin Tin Tin Jr.|     1931|     null|actor,archive_foo...|tt0033822,tt00270...|       1|   actor|null|           [\"Rinty\"]|    movie|     Law of the Wolf|     Law of the Wolf|      0|     1939|   null|            55|[Action, Crime, D...|          4.1|      54|\n",
      "|tt0034461|nm0798333|       Horácio Silva|     1930|     null|               actor|           tt0034461|       5|   actor|null|        [\"Carlitos\"]|    movie|          Aniki Bóbó|          Aniki Bóbó|      0|     1942|   null|            71|     [Drama, Family]|          7.6|    1896|\n",
      "|tt0035617|nm0924916|    Jacqueline White|     1922|     null|actress,archive_f...|tt0044954,tt00389...|       4| actress|null|    [\"Peggy Parker\"]|    movie|    Air Raid Wardens|    Air Raid Wardens|      0|     1943|   null|            67|            [Comedy]|          6.1|    1226|\n",
      "|tt0035826|nm0639684|    Margaret O'Brien|     1937|     null|actress,writer,so...|tt0037059,tt00349...|       7| actress|null|        [\"Margaret\"]|    movie|Dr. Gillespie's C...|Dr. Gillespie's C...|      0|     1943|   null|            89|[Crime, Drama, My...|          6.1|     374|\n",
      "|tt0036198|nm0750674|          Jerry Rush|     1930|     null|               actor|tt0036198,tt00577...|       6|   actor|null|            [\"Dick\"]|    movie|     Nearly Eighteen|     Nearly Eighteen|      0|     1943|   null|            61|[Comedy, Music, R...|          5.5|      72|\n",
      "|tt0037655|nm0751255|      Johnny Russell|     1933|     null|               actor|tt0032264,tt00315...|       7|   actor|null|  [\"Howie Mossrock\"]|    movie|  Don Juan Quilligan|  Don Juan Quilligan|      0|     1945|   null|            75|            [Comedy]|          5.9|     120|\n",
      "|tt0038203|nm0938864|   Edna May Wonacott|     1932|     null|actress,archive_f...|tt0036342,tt00382...|       8| actress|null|           [\"Faith\"]|    movie| Under Western Skies| Under Western Skies|      0|     1945|   null|            57|[Action, Adventur...|          5.7|      84|\n",
      "|tt0038928|nm0601930|         Terry Moore|     1929|     null|actress,producer,...|tt0050839,tt00445...|       6| actress|null|[\"Virginia 'Ginny...|    movie|            Shadowed|            Shadowed|      0|     1946|   null|            70|[Crime, Drama, Fi...|          5.9|     282|\n",
      "|tt0039150|nm0041270|      Brigitte Auber|     1925|     null|actress,archive_f...|tt0048728,tt01207...|       6| actress|null|       [\"Christine\"]|    movie|             Monelle|Les amoureux sont...|      0|     1948|   null|            93|[Drama, Music, Ro...|          7.0|     224|\n",
      "|tt0039247|nm0056878|   Esperanza Barrera|     1926|     null|             actress|tt0041463,tt00429...|      10| actress|null|           [\"Clara\"]|    movie|La casa de las so...|La casa de las so...|      0|     1948|   null|            95|            [Comedy]|          5.2|      13|\n",
      "|tt0039649|nm0879532|Ulf Törneman-Sten...|     1932|     null|               actor|           tt0039649|       5|   actor|null|           [\"Benka\"]|    movie|Master Detective ...|Mästerdetektiven ...|      0|     1947|   null|            91|[Adventure, Famil...|          6.1|     172|\n",
      "|tt0039649|nm0351616|     Roberto Günther|     1932|     null|               actor|           tt0039649|       6|   actor|null|           [\"Jonte\"]|    movie|Master Detective ...|Mästerdetektiven ...|      0|     1947|   null|            91|[Adventure, Famil...|          6.1|     172|\n",
      "|tt0039696|nm0481864|       Liliana Laine|     1923|     null|             actress|tt0036276,tt00377...|       5| actress|null|[\"La contessa Iso...|    movie|  Bullet for Stefano|        Il passatore|      0|     1947|   null|            96|  [Adventure, Drama]|          6.0|      63|\n",
      "|tt0039752|nm0692627|    Agathe Poschmann|     1922|     null|             actress|           tt0039752|       3| actress|null|    [\"Anna Naumann\"]|    movie|         Police Raid|              Razzia|      0|     1947|   null|            90|      [Crime, Drama]|          7.1|      47|\n",
      "+---------+---------+--------------------+---------+---------+--------------------+--------------------+--------+--------+----+--------------------+---------+--------------------+--------------------+-------+---------+-------+--------------+--------------------+-------------+--------+\n",
      "only showing top 20 rows\n",
      "\n"
     ]
    }
   ],
   "source": [
    "filtered_df = actors_movie_rating.where(\n",
    "    (col(\"category\").isin(\"actor\", \"actress\")) &\n",
    "    (col(\"isAdult\") == 0) &\n",
    "    (col(\"deathYear\").isNull()) &\n",
    "    ((col(\"birthYear\") >= 1920) & (col(\"birthYear\").isNotNull())) &\n",
    "    (col(\"titleType\") == \"movie\")\n",
    ")\n",
    "\n",
    "filtered_df.show()"
   ]
  },
  {
   "cell_type": "code",
   "execution_count": null,
   "metadata": {
    "application/vnd.databricks.v1+cell": {
     "cellMetadata": {
      "byteLimit": 2048000,
      "rowLimit": 10000
     },
     "inputWidgets": {},
     "nuid": "fed8a9d7-7f76-4539-a13b-33cabce221fe",
     "showTitle": false,
     "title": ""
    }
   },
   "outputs": [],
   "source": [
    "# save df into dbfs\n",
    "# filtered_df.write.parquet(\"dbfs:/datasets/actors_movie_rating_filtered_parquet\")"
   ]
  },
  {
   "cell_type": "code",
   "execution_count": null,
   "metadata": {
    "application/vnd.databricks.v1+cell": {
     "cellMetadata": {
      "byteLimit": 2048000,
      "rowLimit": 10000
     },
     "inputWidgets": {},
     "nuid": "600b760e-f2e3-42c1-90ff-2bad36bb286e",
     "showTitle": false,
     "title": ""
    }
   },
   "outputs": [],
   "source": [
    "# Load the file from dbfs into a df\n",
    "#filtered_df = spark.read.parquet(\"dbfs:/datasets/actors_movie_rating_filtered_parquet\")"
   ]
  },
  {
   "cell_type": "code",
   "execution_count": null,
   "metadata": {
    "application/vnd.databricks.v1+cell": {
     "cellMetadata": {
      "byteLimit": 2048000,
      "rowLimit": 10000
     },
     "inputWidgets": {},
     "nuid": "d6e222b7-95b3-414c-ab8c-dc3bd7279a72",
     "showTitle": false,
     "title": ""
    }
   },
   "outputs": [
    {
     "name": "stdout",
     "output_type": "stream",
     "text": [
      "The number of rows in the DataFrame is: 749075\n"
     ]
    }
   ],
   "source": [
    "row_count = filtered_df.count()\n",
    "print(f\"The number of rows in the DataFrame is: {row_count}\")"
   ]
  },
  {
   "cell_type": "markdown",
   "metadata": {
    "application/vnd.databricks.v1+cell": {
     "cellMetadata": {
      "byteLimit": 2048000,
      "rowLimit": 10000
     },
     "inputWidgets": {},
     "nuid": "cac5a4e3-37c5-4325-93f9-9289ca25f609",
     "showTitle": false,
     "title": ""
    }
   },
   "source": [
    "**Q3** Convert the above Dataframe to an RDD. Use map and reduce to create a paired RDD which counts how many movies each actor / actress appears in.\n",
    "\n",
    "Display names of the top 10 actors/actresses according to the number of movies in which they appeared. Be careful to deal with different actors / actresses with the same name, these could be different people."
   ]
  },
  {
   "cell_type": "code",
   "execution_count": null,
   "metadata": {
    "application/vnd.databricks.v1+cell": {
     "cellMetadata": {
      "byteLimit": 2048000,
      "rowLimit": 10000
     },
     "inputWidgets": {},
     "nuid": "edb108af-8131-4e75-aa09-1b2d3ee104f6",
     "showTitle": false,
     "title": ""
    }
   },
   "outputs": [],
   "source": [
    "# Convert DataFrame to RDD\n",
    "rdd = filtered_df.rdd\n",
    "\n",
    "# Paired RDD with actor/actress add count 1 for each movie where they appear. Take into account the 'nconst' (unique identifier of person)\n",
    "# to handle cases of actor/actresses with same name.\n",
    "# We also need to use distinct to avoid computing duplicated rows for the same title + actor/actress\n",
    "paired_rdd = rdd.map(lambda row: (row[\"nconst\"], row[\"primaryName\"], row[\"tconst\"])) \\\n",
    "                .distinct() \\\n",
    "                .map(lambda row: ((row[0], row[1]), 1))\n",
    "\n",
    "# Reduce by key (actor/actress) to count the number of movies\n",
    "movies_count_rdd = paired_rdd.reduceByKey(lambda a, b: a + b)\n",
    "\n",
    "# Sort by movie count (X[1]) in descending order and take the top 10\n",
    "top_10_actors = movies_count_rdd.sortBy(lambda x: x[1], ascending=False) \\\n",
    "                                .take(10)"
   ]
  },
  {
   "cell_type": "code",
   "execution_count": null,
   "metadata": {
    "application/vnd.databricks.v1+cell": {
     "cellMetadata": {
      "byteLimit": 2048000,
      "rowLimit": 10000
     },
     "inputWidgets": {},
     "nuid": "e07b6147-b29e-4261-b7b3-cb61615628c8",
     "showTitle": false,
     "title": ""
    }
   },
   "outputs": [
    {
     "name": "stdout",
     "output_type": "stream",
     "text": [
      "Top 10 actors/actresses according to the number of movies in which they appeared\n",
      "Brahmanandam: 791 movies\n",
      "Jagathy Sreekumar: 505 movies\n",
      "Shakti Kapoor: 458 movies\n",
      "Mammootty: 394 movies\n",
      "Nassar: 362 movies\n",
      "Tanikella Bharani: 361 movies\n",
      "Aruna Irani: 359 movies\n",
      "Mohanlal: 351 movies\n",
      "Anupam Kher: 351 movies\n",
      "Eric Roberts: 347 movies\n"
     ]
    }
   ],
   "source": [
    "\n",
    "# top 10 names\n",
    "print(\"Top 10 actors/actresses according to the number of movies in which they appeared:\")\n",
    "for actor, count in top_10_actors:\n",
    "    print(f\"{actor[1]}: {count} movies\")"
   ]
  },
  {
   "cell_type": "markdown",
   "metadata": {
    "application/vnd.databricks.v1+cell": {
     "cellMetadata": {
      "byteLimit": 2048000,
      "rowLimit": 10000
     },
     "inputWidgets": {},
     "nuid": "7e440ede-62e5-4ad4-8f32-745453eb75ee",
     "showTitle": false,
     "title": ""
    }
   },
   "source": [
    "**Q4** Start with the dataframe from Q2. Generate a DataFrame that lists all links of your network. Here we shall consider that a link connects a pair of actors/actresses if they participated in at least one movie together (actors / actresses should be represented by their unique ID's). For every link we then need anytime a pair of actors were together in a movie as a link in each direction (A -> B and B -> A). However links should be distinct we do not need duplicates when two actors worked together in several movies. \n",
    "\n",
    "Display a DataFrame with the first 10 edges."
   ]
  },
  {
   "cell_type": "code",
   "execution_count": null,
   "metadata": {
    "application/vnd.databricks.v1+cell": {
     "cellMetadata": {
      "byteLimit": 2048000,
      "rowLimit": 10000
     },
     "inputWidgets": {},
     "nuid": "83739e82-9947-4783-b873-1265ab2c0cdb",
     "showTitle": false,
     "title": ""
    },
    "vscode": {
     "languageId": "python"
    }
   },
   "outputs": [
    {
     "data": {
      "text/html": [
       "<style scoped>\n",
       "  .table-result-container {\n",
       "    max-height: 300px;\n",
       "    overflow: auto;\n",
       "  }\n",
       "  table, th, td {\n",
       "    border: 1px solid black;\n",
       "    border-collapse: collapse;\n",
       "  }\n",
       "  th, td {\n",
       "    padding: 5px;\n",
       "  }\n",
       "  th {\n",
       "    text-align: left;\n",
       "  }\n",
       "</style><div class='table-result-container'><table class='table-result'><thead style='background-color: white'><tr><th>tconst</th><th>nconst</th></tr></thead><tbody><tr><td>tt0026455</td><td>nm0172237</td></tr><tr><td>tt0027663</td><td>nm1359047</td></tr><tr><td>tt0028674</td><td>nm0124638</td></tr><tr><td>tt0029638</td><td>nm0038535</td></tr><tr><td>tt0032160</td><td>nm0092008</td></tr><tr><td>tt0032746</td><td>nm0751255</td></tr><tr><td>tt0033006</td><td>nm0190681</td></tr><tr><td>tt0033532</td><td>nm0905464</td></tr><tr><td>tt0033822</td><td>nm1168072</td></tr><tr><td>tt0034461</td><td>nm0798333</td></tr></tbody></table></div>"
      ]
     },
     "metadata": {
      "application/vnd.databricks.v1+output": {
       "addedWidgets": {},
       "aggData": [],
       "aggError": "",
       "aggOverflow": false,
       "aggSchema": [],
       "aggSeriesLimitReached": false,
       "aggType": "",
       "arguments": {},
       "columnCustomDisplayInfos": {},
       "data": [
        [
         "tt0026455",
         "nm0172237"
        ],
        [
         "tt0027663",
         "nm1359047"
        ],
        [
         "tt0028674",
         "nm0124638"
        ],
        [
         "tt0029638",
         "nm0038535"
        ],
        [
         "tt0032160",
         "nm0092008"
        ],
        [
         "tt0032746",
         "nm0751255"
        ],
        [
         "tt0033006",
         "nm0190681"
        ],
        [
         "tt0033532",
         "nm0905464"
        ],
        [
         "tt0033822",
         "nm1168072"
        ],
        [
         "tt0034461",
         "nm0798333"
        ]
       ],
       "datasetInfos": [],
       "dbfsResultPath": null,
       "isJsonSchema": true,
       "metadata": {},
       "overflow": false,
       "plotOptions": {
        "customPlotOptions": {},
        "displayType": "table",
        "pivotAggregation": null,
        "pivotColumns": null,
        "xColumns": null,
        "yColumns": null
       },
       "removedWidgets": [],
       "schema": [
        {
         "metadata": "{}",
         "name": "tconst",
         "type": "\"string\""
        },
        {
         "metadata": "{}",
         "name": "nconst",
         "type": "\"string\""
        }
       ],
       "type": "table"
      }
     },
     "output_type": "display_data"
    }
   ],
   "source": [
    "# get the unique actors and unique movies\n",
    "actors_movies_df = filtered_df.select(\"tconst\", \"nconst\")\n",
    "\n",
    "display(actors_movies_df.take(10))"
   ]
  },
  {
   "cell_type": "code",
   "execution_count": null,
   "metadata": {
    "application/vnd.databricks.v1+cell": {
     "cellMetadata": {
      "byteLimit": 2048000,
      "rowLimit": 10000
     },
     "inputWidgets": {},
     "nuid": "44b4fffd-ed25-4358-b5ad-044562df1b95",
     "showTitle": false,
     "title": ""
    }
   },
   "outputs": [
    {
     "data": {
      "text/html": [
       "<style scoped>\n",
       "  .table-result-container {\n",
       "    max-height: 300px;\n",
       "    overflow: auto;\n",
       "  }\n",
       "  table, th, td {\n",
       "    border: 1px solid black;\n",
       "    border-collapse: collapse;\n",
       "  }\n",
       "  th, td {\n",
       "    padding: 5px;\n",
       "  }\n",
       "  th {\n",
       "    text-align: left;\n",
       "  }\n",
       "</style><div class='table-result-container'><table class='table-result'><thead style='background-color: white'><tr><th>tconst</th><th>actors</th></tr></thead><tbody><tr><td>tt0026455</td><td>List(nm0172237)</td></tr><tr><td>tt0027663</td><td>List(nm1359047)</td></tr><tr><td>tt0028674</td><td>List(nm0124638)</td></tr><tr><td>tt0029638</td><td>List(nm0038535)</td></tr><tr><td>tt0032160</td><td>List(nm0092008)</td></tr><tr><td>tt0032746</td><td>List(nm0751255)</td></tr><tr><td>tt0033006</td><td>List(nm0190681)</td></tr><tr><td>tt0033532</td><td>List(nm0905464)</td></tr><tr><td>tt0033822</td><td>List(nm1168072)</td></tr><tr><td>tt0034461</td><td>List(nm0798333)</td></tr></tbody></table></div>"
      ]
     },
     "metadata": {
      "application/vnd.databricks.v1+output": {
       "addedWidgets": {},
       "aggData": [],
       "aggError": "",
       "aggOverflow": false,
       "aggSchema": [],
       "aggSeriesLimitReached": false,
       "aggType": "",
       "arguments": {},
       "columnCustomDisplayInfos": {},
       "data": [
        [
         "tt0026455",
         [
          "nm0172237"
         ]
        ],
        [
         "tt0027663",
         [
          "nm1359047"
         ]
        ],
        [
         "tt0028674",
         [
          "nm0124638"
         ]
        ],
        [
         "tt0029638",
         [
          "nm0038535"
         ]
        ],
        [
         "tt0032160",
         [
          "nm0092008"
         ]
        ],
        [
         "tt0032746",
         [
          "nm0751255"
         ]
        ],
        [
         "tt0033006",
         [
          "nm0190681"
         ]
        ],
        [
         "tt0033532",
         [
          "nm0905464"
         ]
        ],
        [
         "tt0033822",
         [
          "nm1168072"
         ]
        ],
        [
         "tt0034461",
         [
          "nm0798333"
         ]
        ]
       ],
       "datasetInfos": [],
       "dbfsResultPath": null,
       "isJsonSchema": true,
       "metadata": {},
       "overflow": false,
       "plotOptions": {
        "customPlotOptions": {},
        "displayType": "table",
        "pivotAggregation": null,
        "pivotColumns": null,
        "xColumns": null,
        "yColumns": null
       },
       "removedWidgets": [],
       "schema": [
        {
         "metadata": "{}",
         "name": "tconst",
         "type": "\"string\""
        },
        {
         "metadata": "{}",
         "name": "actors",
         "type": "{\"type\":\"array\",\"elementType\":\"string\",\"containsNull\":true}"
        }
       ],
       "type": "table"
      }
     },
     "output_type": "display_data"
    }
   ],
   "source": [
    "# Group by movie (tconst) and collect all actors (nconst)\n",
    "grouped_df = actors_movies_df.groupBy(\"tconst\").agg(collect_list(\"nconst\").alias(\"actors\"))\n",
    "\n",
    "display(grouped_df.take(10))"
   ]
  },
  {
   "cell_type": "markdown",
   "metadata": {
    "application/vnd.databricks.v1+cell": {
     "cellMetadata": {
      "byteLimit": 2048000,
      "rowLimit": 10000
     },
     "inputWidgets": {},
     "nuid": "3646719a-ac08-42ff-b4a7-060b700fdaf3",
     "showTitle": false,
     "title": ""
    }
   },
   "source": [
    "First 10 edges:"
   ]
  },
  {
   "cell_type": "code",
   "execution_count": null,
   "metadata": {
    "application/vnd.databricks.v1+cell": {
     "cellMetadata": {
      "byteLimit": 2048000,
      "rowLimit": 10000
     },
     "inputWidgets": {},
     "nuid": "a2aa335d-90e7-4a45-ad48-c9be04b9a838",
     "showTitle": false,
     "title": ""
    }
   },
   "outputs": [
    {
     "name": "stdout",
     "output_type": "stream",
     "text": [
      "+---------+---------+\n",
      "|      src|      dst|\n",
      "+---------+---------+\n",
      "|nm0001352|nm0657190|\n",
      "|nm0657190|nm0001352|\n",
      "|nm0756292|nm0473530|\n",
      "|nm0807519|nm0818215|\n",
      "|nm0189774|nm0674540|\n",
      "|nm0151228|nm0886638|\n",
      "|nm0450326|nm0450300|\n",
      "|nm0450326|nm0351600|\n",
      "|nm0395012|nm0336390|\n",
      "|nm0132577|nm0829813|\n",
      "+---------+---------+\n",
      "only showing top 10 rows\n",
      "\n"
     ]
    }
   ],
   "source": [
    "# Generate all possible pairs of actors for each movie\n",
    "pairs_rdd = grouped_df.rdd.flatMap(lambda row: [(a, b) for a, b in combinations(row[\"actors\"], 2)])\n",
    "\n",
    "# Create a DataFrame from the pairs RDD\n",
    "pairs_df = pairs_rdd.toDF([\"actor1\", \"actor2\"])\n",
    "\n",
    "# Create bidirectional links (A -> B and B -> A)\n",
    "bidirectional_links_rdd = pairs_df.rdd.flatMap(lambda row: [(row[\"actor1\"], row[\"actor2\"]), (row[\"actor2\"], row[\"actor1\"])])\n",
    "\n",
    "# Remove duplicates to ensure unique links\n",
    "edgeDataFrame = bidirectional_links_rdd.distinct().toDF([\"src\", \"dst\"])\n",
    "\n",
    "# Show the first 10 edges\n",
    "edgeDataFrame.show(10)"
   ]
  },
  {
   "cell_type": "code",
   "execution_count": null,
   "metadata": {
    "application/vnd.databricks.v1+cell": {
     "cellMetadata": {
      "byteLimit": 2048000,
      "rowLimit": 10000
     },
     "inputWidgets": {},
     "nuid": "fa1fa768-c77a-4225-9027-2066aa7272e3",
     "showTitle": false,
     "title": ""
    }
   },
   "outputs": [
    {
     "name": "stderr",
     "output_type": "stream",
     "text": [
      "/databricks/spark/python/pyspark/sql/dataframe.py:170: UserWarning: DataFrame.sql_ctx is an internal property, and will be removed in future releases. Use DataFrame.sparkSession instead.\n",
      "  warnings.warn(\n"
     ]
    },
    {
     "name": "stdout",
     "output_type": "stream",
     "text": [
      "+---------+\n",
      "|       id|\n",
      "+---------+\n",
      "|nm0788120|\n",
      "|nm0852670|\n",
      "|nm0463100|\n",
      "|nm0481731|\n",
      "|nm0091035|\n",
      "|nm0155923|\n",
      "|nm0847265|\n",
      "|nm0280355|\n",
      "|nm3088934|\n",
      "|nm0102522|\n",
      "|nm1966962|\n",
      "|nm1480555|\n",
      "|nm0727382|\n",
      "|nm4993862|\n",
      "|nm7029055|\n",
      "|nm3236159|\n",
      "|nm0360305|\n",
      "|nm0090120|\n",
      "|nm0000767|\n",
      "|nm0812556|\n",
      "+---------+\n",
      "only showing top 20 rows\n",
      "\n",
      "+---------+---------+\n",
      "|      src|      dst|\n",
      "+---------+---------+\n",
      "|nm0561155|nm0949942|\n",
      "|nm0279524|nm0517642|\n",
      "|nm0253349|nm0515581|\n",
      "|nm0402505|nm0311357|\n",
      "|nm0474926|nm0904537|\n",
      "|nm0391096|nm0493048|\n",
      "|nm0556146|nm0094544|\n",
      "|nm0140153|nm0881605|\n",
      "|nm0765783|nm0846998|\n",
      "|nm1977074|nm0005033|\n",
      "|nm0060288|nm0625115|\n",
      "|nm0145061|nm0023134|\n",
      "|nm0135742|nm0307491|\n",
      "|nm0040152|nm0813961|\n",
      "|nm0436157|nm0173318|\n",
      "|nm0000047|nm0139206|\n",
      "|nm0116532|nm0885446|\n",
      "|nm0355246|nm0194357|\n",
      "|nm0554718|nm0690362|\n",
      "|nm0131939|nm0188051|\n",
      "+---------+---------+\n",
      "only showing top 20 rows\n",
      "\n"
     ]
    }
   ],
   "source": [
    "edgeDataFrame = bidirectional_links_rdd.distinct().toDF([\"src\", \"dst\"]).persist()\n",
    "verticesDataFrame = actors_movies_df.select(col('nconst').alias('id')).distinct().persist()\n",
    "\n",
    "graph = GraphFrame(verticesDataFrame, edgeDataFrame)\n",
    "graph.vertices.show()\n",
    "graph.edges.show()"
   ]
  },
  {
   "cell_type": "markdown",
   "metadata": {
    "application/vnd.databricks.v1+cell": {
     "cellMetadata": {
      "byteLimit": 2048000,
      "rowLimit": 10000
     },
     "inputWidgets": {},
     "nuid": "cd6e0c4e-0fb0-4c61-947f-39d63fdf27cf",
     "showTitle": false,
     "title": ""
    }
   },
   "source": [
    "**Q5** Compute the page rank of each actor. This can be done using GraphFrames or\n",
    "by using RDDs and the iterative implementation of the PageRank algorithm. Do not take\n",
    "more than 5 iterations and use reset probility = 0.1.\n",
    "\n",
    "List the top 10 actors / actresses by pagerank."
   ]
  },
  {
   "cell_type": "code",
   "execution_count": null,
   "metadata": {
    "application/vnd.databricks.v1+cell": {
     "cellMetadata": {
      "byteLimit": 2048000,
      "rowLimit": 10000
     },
     "inputWidgets": {},
     "nuid": "490ab220-11b5-46ab-932a-555cabee8405",
     "showTitle": false,
     "title": ""
    },
    "vscode": {
     "languageId": "python"
    }
   },
   "outputs": [
    {
     "name": "stderr",
     "output_type": "stream",
     "text": [
      "/databricks/spark/python/pyspark/sql/dataframe.py:149: UserWarning: DataFrame constructor is internal. Do not directly use it.\n",
      "  warnings.warn(\"DataFrame constructor is internal. Do not directly use it.\")\n"
     ]
    }
   ],
   "source": [
    "pageRanks = graph.pageRank(resetProbability=0.1, maxIter = 5)"
   ]
  },
  {
   "cell_type": "markdown",
   "metadata": {
    "application/vnd.databricks.v1+cell": {
     "cellMetadata": {
      "byteLimit": 2048000,
      "rowLimit": 10000
     },
     "inputWidgets": {},
     "nuid": "fa47e83b-fe01-44fc-a907-cb1c3227a7e8",
     "showTitle": false,
     "title": ""
    }
   },
   "source": [
    "Top actors/actresses by Pagerank:"
   ]
  },
  {
   "cell_type": "code",
   "execution_count": null,
   "metadata": {
    "application/vnd.databricks.v1+cell": {
     "cellMetadata": {
      "byteLimit": 2048000,
      "rowLimit": 10000
     },
     "inputWidgets": {},
     "nuid": "7abd4a14-e1bc-4360-a28f-f6fa14814ee8",
     "showTitle": false,
     "title": ""
    }
   },
   "outputs": [
    {
     "data": {
      "text/html": [
       "<style scoped>\n",
       "  .table-result-container {\n",
       "    max-height: 300px;\n",
       "    overflow: auto;\n",
       "  }\n",
       "  table, th, td {\n",
       "    border: 1px solid black;\n",
       "    border-collapse: collapse;\n",
       "  }\n",
       "  th, td {\n",
       "    padding: 5px;\n",
       "  }\n",
       "  th {\n",
       "    text-align: left;\n",
       "  }\n",
       "</style><div class='table-result-container'><table class='table-result'><thead style='background-color: white'><tr><th>nconst</th><th>primaryName</th><th>pagerank</th></tr></thead><tbody><tr><td>nm0000616</td><td>Eric Roberts</td><td>50.92364805311795</td></tr><tr><td>nm0000514</td><td>Michael Madsen</td><td>31.601431340559394</td></tr><tr><td>nm0001803</td><td>Danny Trejo</td><td>23.346304188390643</td></tr><tr><td>nm0202966</td><td>Keith David</td><td>22.531306846826777</td></tr><tr><td>nm0261724</td><td>Joe Estevez</td><td>21.841306390240266</td></tr><tr><td>nm0000448</td><td>Lance Henriksen</td><td>21.702360457117138</td></tr><tr><td>nm0000532</td><td>Malcolm McDowell</td><td>21.208998343240047</td></tr><tr><td>nm0001595</td><td>Michael Paré</td><td>20.824913825457838</td></tr><tr><td>nm0726223</td><td>Richard Riehle</td><td>20.06968885970805</td></tr><tr><td>nm0000367</td><td>Gérard Depardieu</td><td>19.563157341971095</td></tr></tbody></table></div>"
      ]
     },
     "metadata": {
      "application/vnd.databricks.v1+output": {
       "addedWidgets": {},
       "aggData": [],
       "aggError": "",
       "aggOverflow": false,
       "aggSchema": [],
       "aggSeriesLimitReached": false,
       "aggType": "",
       "arguments": {},
       "columnCustomDisplayInfos": {},
       "data": [
        [
         "nm0000616",
         "Eric Roberts",
         50.92364805311795
        ],
        [
         "nm0000514",
         "Michael Madsen",
         31.601431340559394
        ],
        [
         "nm0001803",
         "Danny Trejo",
         23.346304188390643
        ],
        [
         "nm0202966",
         "Keith David",
         22.531306846826777
        ],
        [
         "nm0261724",
         "Joe Estevez",
         21.841306390240266
        ],
        [
         "nm0000448",
         "Lance Henriksen",
         21.702360457117138
        ],
        [
         "nm0000532",
         "Malcolm McDowell",
         21.208998343240047
        ],
        [
         "nm0001595",
         "Michael Paré",
         20.824913825457838
        ],
        [
         "nm0726223",
         "Richard Riehle",
         20.06968885970805
        ],
        [
         "nm0000367",
         "Gérard Depardieu",
         19.563157341971095
        ]
       ],
       "datasetInfos": [],
       "dbfsResultPath": null,
       "isJsonSchema": true,
       "metadata": {},
       "overflow": false,
       "plotOptions": {
        "customPlotOptions": {},
        "displayType": "table",
        "pivotAggregation": null,
        "pivotColumns": null,
        "xColumns": null,
        "yColumns": null
       },
       "removedWidgets": [],
       "schema": [
        {
         "metadata": "{}",
         "name": "nconst",
         "type": "\"string\""
        },
        {
         "metadata": "{}",
         "name": "primaryName",
         "type": "\"string\""
        },
        {
         "metadata": "{}",
         "name": "pagerank",
         "type": "\"double\""
        }
       ],
       "type": "table"
      }
     },
     "output_type": "display_data"
    }
   ],
   "source": [
    "pageRanksDf = pageRanks.vertices.join(name_basics_df, name_basics_df['nconst'] == pageRanks.vertices['id']) \\\n",
    "  .select('nconst', 'primaryName', 'pagerank') \\\n",
    "  .orderBy(f.desc('pagerank'))\n",
    "\n",
    "display(pageRanksDf.take(10))"
   ]
  },
  {
   "cell_type": "markdown",
   "metadata": {
    "application/vnd.databricks.v1+cell": {
     "cellMetadata": {
      "byteLimit": 2048000,
      "rowLimit": 10000
     },
     "inputWidgets": {},
     "nuid": "ebfc5b76-2ccf-4318-a655-f48fd047cedb",
     "showTitle": false,
     "title": ""
    }
   },
   "source": [
    "**Q6**: Create an RDD with the number of outDegrees for each actor. Display the top 10 by outdegrees."
   ]
  },
  {
   "cell_type": "code",
   "execution_count": null,
   "metadata": {
    "application/vnd.databricks.v1+cell": {
     "cellMetadata": {
      "byteLimit": 2048000,
      "rowLimit": 10000
     },
     "inputWidgets": {},
     "nuid": "6fc31988-7367-4b75-9a54-cd9e7e13cf6b",
     "showTitle": false,
     "title": ""
    },
    "vscode": {
     "languageId": "python"
    }
   },
   "outputs": [
    {
     "data": {
      "text/html": [
       "<style scoped>\n",
       "  .table-result-container {\n",
       "    max-height: 300px;\n",
       "    overflow: auto;\n",
       "  }\n",
       "  table, th, td {\n",
       "    border: 1px solid black;\n",
       "    border-collapse: collapse;\n",
       "  }\n",
       "  th, td {\n",
       "    padding: 5px;\n",
       "  }\n",
       "  th {\n",
       "    text-align: left;\n",
       "  }\n",
       "</style><div class='table-result-container'><table class='table-result'><thead style='background-color: white'><tr><th>nconst</th><th>primaryName</th><th>outDegree</th></tr></thead><tbody><tr><td>nm0000616</td><td>Eric Roberts</td><td>1117</td></tr><tr><td>nm0000514</td><td>Michael Madsen</td><td>791</td></tr><tr><td>nm0451600</td><td>Anupam Kher</td><td>723</td></tr><tr><td>nm0000367</td><td>Gérard Depardieu</td><td>657</td></tr><tr><td>nm0202966</td><td>Keith David</td><td>657</td></tr><tr><td>nm0621937</td><td>Nassar</td><td>642</td></tr><tr><td>nm0410902</td><td>Renji Ishibashi</td><td>624</td></tr><tr><td>nm0256628</td><td>Akira Emoto</td><td>617</td></tr><tr><td>nm0695177</td><td>Prakash Raj</td><td>606</td></tr><tr><td>nm0000168</td><td>Samuel L. Jackson</td><td>605</td></tr></tbody></table></div>"
      ]
     },
     "metadata": {
      "application/vnd.databricks.v1+output": {
       "addedWidgets": {},
       "aggData": [],
       "aggError": "",
       "aggOverflow": false,
       "aggSchema": [],
       "aggSeriesLimitReached": false,
       "aggType": "",
       "arguments": {},
       "columnCustomDisplayInfos": {},
       "data": [
        [
         "nm0000616",
         "Eric Roberts",
         1117
        ],
        [
         "nm0000514",
         "Michael Madsen",
         791
        ],
        [
         "nm0451600",
         "Anupam Kher",
         723
        ],
        [
         "nm0000367",
         "Gérard Depardieu",
         657
        ],
        [
         "nm0202966",
         "Keith David",
         657
        ],
        [
         "nm0621937",
         "Nassar",
         642
        ],
        [
         "nm0410902",
         "Renji Ishibashi",
         624
        ],
        [
         "nm0256628",
         "Akira Emoto",
         617
        ],
        [
         "nm0695177",
         "Prakash Raj",
         606
        ],
        [
         "nm0000168",
         "Samuel L. Jackson",
         605
        ]
       ],
       "datasetInfos": [],
       "dbfsResultPath": null,
       "isJsonSchema": true,
       "metadata": {},
       "overflow": false,
       "plotOptions": {
        "customPlotOptions": {},
        "displayType": "table",
        "pivotAggregation": null,
        "pivotColumns": null,
        "xColumns": null,
        "yColumns": null
       },
       "removedWidgets": [],
       "schema": [
        {
         "metadata": "{}",
         "name": "nconst",
         "type": "\"string\""
        },
        {
         "metadata": "{}",
         "name": "primaryName",
         "type": "\"string\""
        },
        {
         "metadata": "{}",
         "name": "outDegree",
         "type": "\"long\""
        }
       ],
       "type": "table"
      }
     },
     "output_type": "display_data"
    }
   ],
   "source": [
    "outDegreesDf = graph.outDegrees.join(name_basics_df, name_basics_df['nconst'] == graph.outDegrees['id']) \\\n",
    "  .select('nconst', 'primaryName', 'outDegree')\n",
    "\n",
    "outDegreesRdd = outDegreesDf.rdd \\\n",
    "  .sortBy(lambda row: row['outDegree'], ascending=False)\n",
    "\n",
    "display(outDegreesRdd.take(10))"
   ]
  },
  {
   "cell_type": "markdown",
   "metadata": {
    "application/vnd.databricks.v1+cell": {
     "cellMetadata": {
      "byteLimit": 2048000,
      "rowLimit": 10000
     },
     "inputWidgets": {},
     "nuid": "3a15dc25-3e0f-4400-9207-127bcfdaee1f",
     "showTitle": false,
     "title": ""
    }
   },
   "source": [
    "### Let’s play Kevin’s own game\n",
    "\n",
    "**Q7** Start with the graphframe / dataframe you developed in the previous questions. Using Spark GraphFrame and/or Spark Core library perform the following steps:\n",
    "\n",
    "1. Identify the id of Kevin Bacon, there are two actors named ‘Kevin Bacon’, we will use the one with the highest degree, that is, the one that participated in most titles;\n",
    "1. Estimate the shortest path between every actor in the database actors and Kevin Bacon, keep a dataframe with this information as you will need it later;\n",
    "1. Summarise the data, that is, count the number of actors at each number of degress from kevin bacon (you will need to deal with actors unconnected to kevin bacon, if not connected to Kevin Bacon given these actors / actresses a score/degree of 20)."
   ]
  },
  {
   "cell_type": "code",
   "execution_count": null,
   "metadata": {
    "application/vnd.databricks.v1+cell": {
     "cellMetadata": {
      "byteLimit": 2048000,
      "rowLimit": 10000
     },
     "inputWidgets": {},
     "nuid": "68593435-ced4-46d1-b65b-28c78b2726b2",
     "showTitle": false,
     "title": ""
    },
    "vscode": {
     "languageId": "python"
    }
   },
   "outputs": [],
   "source": [
    "kevin_bacon_df = name_basics_df.join(graph.outDegrees, graph.outDegrees['id'] == name_basics_df['nconst']) \\\n",
    "  .where(col('primaryName') == 'Kevin Bacon') \\\n",
    "  .orderBy(f.desc('outDegree')) \\\n",
    "  .select('nconst')"
   ]
  },
  {
   "cell_type": "markdown",
   "metadata": {
    "application/vnd.databricks.v1+cell": {
     "cellMetadata": {
      "byteLimit": 2048000,
      "rowLimit": 10000
     },
     "inputWidgets": {},
     "nuid": "a168ab64-99a4-4a2a-aa1b-72f4aacfa537",
     "showTitle": false,
     "title": ""
    }
   },
   "source": [
    "Get Kevin Bacon ID and store it into a variable:"
   ]
  },
  {
   "cell_type": "code",
   "execution_count": null,
   "metadata": {
    "application/vnd.databricks.v1+cell": {
     "cellMetadata": {
      "byteLimit": 2048000,
      "rowLimit": 10000
     },
     "inputWidgets": {},
     "nuid": "72b31702-1e0d-44f6-a469-13fcec8f0753",
     "showTitle": false,
     "title": ""
    }
   },
   "outputs": [
    {
     "name": "stdout",
     "output_type": "stream",
     "text": [
      "Out[34]: 'nm0000102'"
     ]
    }
   ],
   "source": [
    "kevin_bacon_id = kevin_bacon_df.take(1)[0]['nconst']\n",
    "kevin_bacon_id"
   ]
  },
  {
   "cell_type": "markdown",
   "metadata": {
    "application/vnd.databricks.v1+cell": {
     "cellMetadata": {
      "byteLimit": 2048000,
      "rowLimit": 10000
     },
     "inputWidgets": {},
     "nuid": "8617d00e-74e0-42b4-9e96-b0b0829803b4",
     "showTitle": false,
     "title": ""
    }
   },
   "source": [
    "Calculate shortest-path for each actor/actress and Kevin Bacon"
   ]
  },
  {
   "cell_type": "code",
   "execution_count": null,
   "metadata": {
    "application/vnd.databricks.v1+cell": {
     "cellMetadata": {
      "byteLimit": 2048000,
      "rowLimit": 10000
     },
     "inputWidgets": {},
     "nuid": "c46dcc28-eb36-493b-b527-d6052e5da44a",
     "showTitle": false,
     "title": ""
    }
   },
   "outputs": [
    {
     "data": {
      "text/html": [
       "<style scoped>\n",
       "  .table-result-container {\n",
       "    max-height: 300px;\n",
       "    overflow: auto;\n",
       "  }\n",
       "  table, th, td {\n",
       "    border: 1px solid black;\n",
       "    border-collapse: collapse;\n",
       "  }\n",
       "  th, td {\n",
       "    padding: 5px;\n",
       "  }\n",
       "  th {\n",
       "    text-align: left;\n",
       "  }\n",
       "</style><div class='table-result-container'><table class='table-result'><thead style='background-color: white'><tr><th>id</th><th>distances</th></tr></thead><tbody><tr><td>nm0046770</td><td>Map(nm0000102 -> 2)</td></tr><tr><td>nm2570728</td><td>Map(nm0000102 -> 3)</td></tr><tr><td>nm0057029</td><td>Map(nm0000102 -> 3)</td></tr><tr><td>nm4969323</td><td>Map(nm0000102 -> 3)</td></tr><tr><td>nm0165411</td><td>Map(nm0000102 -> 3)</td></tr><tr><td>nm3974605</td><td>Map(nm0000102 -> 3)</td></tr><tr><td>nm0622637</td><td>Map(nm0000102 -> 4)</td></tr><tr><td>nm1682363</td><td>Map(nm0000102 -> 3)</td></tr><tr><td>nm0911320</td><td>Map(nm0000102 -> 2)</td></tr><tr><td>nm0738722</td><td>Map(nm0000102 -> 3)</td></tr></tbody></table></div>"
      ]
     },
     "metadata": {
      "application/vnd.databricks.v1+output": {
       "addedWidgets": {},
       "aggData": [],
       "aggError": "",
       "aggOverflow": false,
       "aggSchema": [],
       "aggSeriesLimitReached": false,
       "aggType": "",
       "arguments": {},
       "columnCustomDisplayInfos": {},
       "data": [
        [
         "nm0046770",
         {
          "nm0000102": 2
         }
        ],
        [
         "nm2570728",
         {
          "nm0000102": 3
         }
        ],
        [
         "nm0057029",
         {
          "nm0000102": 3
         }
        ],
        [
         "nm4969323",
         {
          "nm0000102": 3
         }
        ],
        [
         "nm0165411",
         {
          "nm0000102": 3
         }
        ],
        [
         "nm3974605",
         {
          "nm0000102": 3
         }
        ],
        [
         "nm0622637",
         {
          "nm0000102": 4
         }
        ],
        [
         "nm1682363",
         {
          "nm0000102": 3
         }
        ],
        [
         "nm0911320",
         {
          "nm0000102": 2
         }
        ],
        [
         "nm0738722",
         {
          "nm0000102": 3
         }
        ]
       ],
       "datasetInfos": [],
       "dbfsResultPath": null,
       "isJsonSchema": true,
       "metadata": {},
       "overflow": false,
       "plotOptions": {
        "customPlotOptions": {},
        "displayType": "table",
        "pivotAggregation": null,
        "pivotColumns": null,
        "xColumns": null,
        "yColumns": null
       },
       "removedWidgets": [],
       "schema": [
        {
         "metadata": "{}",
         "name": "id",
         "type": "\"string\""
        },
        {
         "metadata": "{}",
         "name": "distances",
         "type": "{\"type\":\"map\",\"keyType\":\"string\",\"valueType\":\"long\",\"valueContainsNull\":true}"
        }
       ],
       "type": "table"
      }
     },
     "output_type": "display_data"
    }
   ],
   "source": [
    "shortest_path_df = graph.shortestPaths(landmarks=[kevin_bacon_id])\n",
    "\n",
    "display(shortest_path_df.take(10))"
   ]
  },
  {
   "cell_type": "markdown",
   "metadata": {
    "application/vnd.databricks.v1+cell": {
     "cellMetadata": {
      "byteLimit": 2048000,
      "rowLimit": 10000
     },
     "inputWidgets": {},
     "nuid": "ec2eda81-bf42-46d9-8082-ea9847f2ef69",
     "showTitle": false,
     "title": ""
    }
   },
   "source": [
    "Summarize the data:"
   ]
  },
  {
   "cell_type": "code",
   "execution_count": null,
   "metadata": {
    "application/vnd.databricks.v1+cell": {
     "cellMetadata": {
      "byteLimit": 2048000,
      "rowLimit": 10000
     },
     "inputWidgets": {},
     "nuid": "02662972-4b30-4dec-ae17-9a066e99ffa5",
     "showTitle": false,
     "title": ""
    }
   },
   "outputs": [
    {
     "data": {
      "text/html": [
       "<style scoped>\n",
       "  .table-result-container {\n",
       "    max-height: 300px;\n",
       "    overflow: auto;\n",
       "  }\n",
       "  table, th, td {\n",
       "    border: 1px solid black;\n",
       "    border-collapse: collapse;\n",
       "  }\n",
       "  th, td {\n",
       "    padding: 5px;\n",
       "  }\n",
       "  th {\n",
       "    text-align: left;\n",
       "  }\n",
       "</style><div class='table-result-container'><table class='table-result'><thead style='background-color: white'><tr><th>distance_to_kevin_bacon</th><th>count</th></tr></thead><tbody><tr><td>3</td><td>54190</td></tr><tr><td>4</td><td>38606</td></tr><tr><td>2</td><td>13315</td></tr><tr><td>20</td><td>10283</td></tr><tr><td>5</td><td>4048</td></tr><tr><td>1</td><td>334</td></tr><tr><td>6</td><td>319</td></tr><tr><td>7</td><td>32</td></tr><tr><td>8</td><td>3</td></tr><tr><td>0</td><td>1</td></tr></tbody></table></div>"
      ]
     },
     "metadata": {
      "application/vnd.databricks.v1+output": {
       "addedWidgets": {},
       "aggData": [],
       "aggError": "",
       "aggOverflow": false,
       "aggSchema": [],
       "aggSeriesLimitReached": false,
       "aggType": "",
       "arguments": {},
       "columnCustomDisplayInfos": {},
       "data": [
        [
         3,
         54190
        ],
        [
         4,
         38606
        ],
        [
         2,
         13315
        ],
        [
         20,
         10283
        ],
        [
         5,
         4048
        ],
        [
         1,
         334
        ],
        [
         6,
         319
        ],
        [
         7,
         32
        ],
        [
         8,
         3
        ],
        [
         0,
         1
        ]
       ],
       "datasetInfos": [],
       "dbfsResultPath": null,
       "isJsonSchema": true,
       "metadata": {},
       "overflow": false,
       "plotOptions": {
        "customPlotOptions": {},
        "displayType": "table",
        "pivotAggregation": null,
        "pivotColumns": null,
        "xColumns": null,
        "yColumns": null
       },
       "removedWidgets": [],
       "schema": [
        {
         "metadata": "{}",
         "name": "distance_to_kevin_bacon",
         "type": "\"long\""
        },
        {
         "metadata": "{}",
         "name": "count",
         "type": "\"long\""
        }
       ],
       "type": "table"
      }
     },
     "output_type": "display_data"
    }
   ],
   "source": [
    "#Create new column to store only the distance, replacing nulls with 20\n",
    "distance_to_kevin_bacon_df = shortest_path_df \\\n",
    "  .withColumn(\"distance_to_kevin_bacon\", f.coalesce(f.col(\"distances\").getItem(kevin_bacon_id), f.lit(20))) \\\n",
    "  .withColumnRenamed('id', 'nconst')\n",
    "  \n",
    "summarized_shortest_path_df = distance_to_kevin_bacon_df.groupBy('distance_to_kevin_bacon') \\\n",
    "  .count() \\\n",
    "  .orderBy(f.desc('count'))\n",
    "\n",
    "display(summarized_shortest_path_df.take(20))"
   ]
  },
  {
   "cell_type": "markdown",
   "metadata": {
    "application/vnd.databricks.v1+cell": {
     "cellMetadata": {
      "byteLimit": 2048000,
      "rowLimit": 10000
     },
     "inputWidgets": {},
     "nuid": "72a70135-807b-4130-840e-d5df28102136",
     "showTitle": false,
     "title": ""
    }
   },
   "source": [
    "### Exploring the data with RDD's\n",
    "\n",
    "Using RDDs and (not dataframes) answer the following questions (if you loaded your data into spark in a dataframe you can convert to an RDD of rows easily using `.rdd`):\n",
    "\n",
    "**Q8** Movies can have multiple genres. Considering only titles of the type 'movie' what is the combination of genres that is the most popluar (as measured by number of reviews). Hint: paired RDD's will be useful."
   ]
  },
  {
   "cell_type": "code",
   "execution_count": null,
   "metadata": {
    "application/vnd.databricks.v1+cell": {
     "cellMetadata": {
      "byteLimit": 2048000,
      "rowLimit": 10000
     },
     "inputWidgets": {},
     "nuid": "f3a5d253-2f4d-414b-bb25-d2fb4875d881",
     "showTitle": false,
     "title": ""
    }
   },
   "outputs": [],
   "source": [
    "# Convert DataFrames to RDD\n",
    "title_basics_rdd = title_basics_df_preprocessed.rdd\n",
    "title_ratings_rdd = title_ratings_df.rdd"
   ]
  },
  {
   "cell_type": "code",
   "execution_count": null,
   "metadata": {
    "application/vnd.databricks.v1+cell": {
     "cellMetadata": {
      "byteLimit": 2048000,
      "rowLimit": 10000
     },
     "inputWidgets": {},
     "nuid": "966d8beb-2821-411e-adc3-93001372d8e2",
     "showTitle": false,
     "title": ""
    }
   },
   "outputs": [],
   "source": [
    "# filter only the movies\n",
    "movies_rdd = title_basics_rdd.filter(lambda row: row[\"titleType\"] == \"movie\")"
   ]
  },
  {
   "cell_type": "code",
   "execution_count": null,
   "metadata": {
    "application/vnd.databricks.v1+cell": {
     "cellMetadata": {
      "byteLimit": 2048000,
      "rowLimit": 10000
     },
     "inputWidgets": {},
     "nuid": "136e012b-6532-456d-b7b2-59e735ba9874",
     "showTitle": false,
     "title": ""
    }
   },
   "outputs": [],
   "source": [
    "# Select necessary columns\n",
    "movies_rdd = movies_rdd.map(lambda row: (row['tconst'], row['genres']))\n",
    "ratings_rdd = title_ratings_rdd.map(lambda row: (row['tconst'], (row['numVotes'])))"
   ]
  },
  {
   "cell_type": "code",
   "execution_count": null,
   "metadata": {
    "application/vnd.databricks.v1+cell": {
     "cellMetadata": {
      "byteLimit": 2048000,
      "rowLimit": 10000
     },
     "inputWidgets": {},
     "nuid": "6127f34c-d980-43e7-88a2-2f3153ace236",
     "showTitle": false,
     "title": ""
    }
   },
   "outputs": [],
   "source": [
    "# join\n",
    "movies_ratings_rdd = movies_rdd.join(ratings_rdd)"
   ]
  },
  {
   "cell_type": "code",
   "execution_count": null,
   "metadata": {
    "application/vnd.databricks.v1+cell": {
     "cellMetadata": {
      "byteLimit": 2048000,
      "rowLimit": 10000
     },
     "inputWidgets": {},
     "nuid": "10b37b18-a3c7-42b6-93b1-6f8e69caeb8b",
     "showTitle": false,
     "title": ""
    }
   },
   "outputs": [],
   "source": [
    "# filter none type\n",
    "movies_ratings_rdd = movies_ratings_rdd.filter(lambda x: x[1][0] is not None and x[1][1] is not None)"
   ]
  },
  {
   "cell_type": "code",
   "execution_count": null,
   "metadata": {
    "application/vnd.databricks.v1+cell": {
     "cellMetadata": {
      "byteLimit": 2048000,
      "rowLimit": 10000
     },
     "inputWidgets": {},
     "nuid": "b4014e51-cec6-40bc-b390-65a954c81596",
     "showTitle": false,
     "title": ""
    }
   },
   "outputs": [],
   "source": [
    "# Split genres and pair with number of votes\n",
    "genre_votes_rdd = movies_ratings_rdd.map(lambda x: (tuple(x[1][0]), x[1][1]))"
   ]
  },
  {
   "cell_type": "code",
   "execution_count": null,
   "metadata": {
    "application/vnd.databricks.v1+cell": {
     "cellMetadata": {
      "byteLimit": 2048000,
      "rowLimit": 10000
     },
     "inputWidgets": {},
     "nuid": "b575d18a-3d4a-4e5f-ad94-407b15707916",
     "showTitle": false,
     "title": ""
    }
   },
   "outputs": [],
   "source": [
    "# Reduce by genre to sum the number of votes\n",
    "genre_votes_sum_rdd = genre_votes_rdd.reduceByKey(lambda x, y: x + y)"
   ]
  },
  {
   "cell_type": "code",
   "execution_count": null,
   "metadata": {
    "application/vnd.databricks.v1+cell": {
     "cellMetadata": {
      "byteLimit": 2048000,
      "rowLimit": 10000
     },
     "inputWidgets": {},
     "nuid": "a5889496-5662-48a8-9d7d-8db0937d6fb7",
     "showTitle": false,
     "title": ""
    }
   },
   "outputs": [
    {
     "name": "stdout",
     "output_type": "stream",
     "text": [
      "The most popular genre combination is: (('Action', 'Adventure', 'Sci-Fi'), 54342547)\n"
     ]
    }
   ],
   "source": [
    "# sort in descending order of votes and taking the first\n",
    "most_popular_genre_combination = genre_votes_sum_rdd.sortBy(lambda x: x[1], ascending=False).first()\n",
    "\n",
    "print(f\"The most popular genre combination is: {most_popular_genre_combination}\")"
   ]
  },
  {
   "cell_type": "markdown",
   "metadata": {
    "application/vnd.databricks.v1+cell": {
     "cellMetadata": {
      "byteLimit": 2048000,
      "rowLimit": 10000
     },
     "inputWidgets": {},
     "nuid": "d01f24fc-3580-452b-aa71-403b80a48ee7",
     "showTitle": false,
     "title": ""
    }
   },
   "source": [
    "**Q9** Movies can have multiple genres. Considering only titles of the type 'movie', and movies with more than 400 ratings, what is the combination of genres that has the highest **average movie rating** (you can average the movie rating for each movie in that genre combination). Hint: paired RDD's will be useful."
   ]
  },
  {
   "cell_type": "code",
   "execution_count": null,
   "metadata": {
    "application/vnd.databricks.v1+cell": {
     "cellMetadata": {
      "byteLimit": 2048000,
      "rowLimit": 10000
     },
     "inputWidgets": {},
     "nuid": "143554eb-2c28-452e-88be-5217b1e2c40f",
     "showTitle": false,
     "title": ""
    }
   },
   "outputs": [],
   "source": [
    "# filter only the movies\n",
    "movies_rdd = title_basics_rdd.filter(lambda row: row[\"titleType\"] == \"movie\")"
   ]
  },
  {
   "cell_type": "code",
   "execution_count": null,
   "metadata": {
    "application/vnd.databricks.v1+cell": {
     "cellMetadata": {
      "byteLimit": 2048000,
      "rowLimit": 10000
     },
     "inputWidgets": {},
     "nuid": "23a9c054-2de9-46d4-b24f-b76a259d6fb6",
     "showTitle": false,
     "title": ""
    },
    "vscode": {
     "languageId": "python"
    }
   },
   "outputs": [],
   "source": [
    "# Join movies and ratings RDDs\n",
    "movies_rdd = movies_rdd.map(lambda row: (row['tconst'], row['genres']))\n",
    "ratings_rdd = title_ratings_rdd.map(lambda row: (row['tconst'], (row['numVotes'], row['averageRating'])))\n",
    "\n",
    "movies_ratings_rdd = movies_rdd.join(ratings_rdd)"
   ]
  },
  {
   "cell_type": "code",
   "execution_count": null,
   "metadata": {
    "application/vnd.databricks.v1+cell": {
     "cellMetadata": {
      "byteLimit": 2048000,
      "rowLimit": 10000
     },
     "inputWidgets": {},
     "nuid": "b2836fdd-8a7e-4e35-ba3c-84370571eb3c",
     "showTitle": false,
     "title": ""
    }
   },
   "outputs": [],
   "source": [
    "# Filter movies with more than 400 ratings (2nd element on the tuple)\n",
    "movies_more_rated = movies_ratings_rdd.filter(lambda row: row[1][1][0] > 400 if row[1][0] is not None else False)"
   ]
  },
  {
   "cell_type": "code",
   "execution_count": null,
   "metadata": {
    "application/vnd.databricks.v1+cell": {
     "cellMetadata": {
      "byteLimit": 2048000,
      "rowLimit": 10000
     },
     "inputWidgets": {},
     "nuid": "55ddad4d-544c-4f63-ac55-238088f2815a",
     "showTitle": false,
     "title": ""
    }
   },
   "outputs": [],
   "source": [
    "# Map to get (genre_combination, (sum_rating, count))\n",
    "genre_ratings = movies_more_rated.map(lambda row: (tuple(row[1][0]), (row[1][1][1])))"
   ]
  },
  {
   "cell_type": "code",
   "execution_count": null,
   "metadata": {
    "application/vnd.databricks.v1+cell": {
     "cellMetadata": {
      "byteLimit": 2048000,
      "rowLimit": 10000
     },
     "inputWidgets": {},
     "nuid": "7d833a65-009c-4d04-a0c6-5c0217080c65",
     "showTitle": false,
     "title": ""
    }
   },
   "outputs": [
    {
     "name": "stdout",
     "output_type": "stream",
     "text": [
      "Genre combination with the highest average rating: (('Music', 'Musical'), 8.3)\n"
     ]
    }
   ],
   "source": [
    "genres_and_rating_rdd = movies_more_rated.map(lambda row: (tuple(row[1][0]), row[1][1][1]))\n",
    "\n",
    "highest_avg_genre_combination = genres_and_rating_rdd.groupByKey() \\\n",
    "  .mapValues(lambda values: sum(values) / len(values)) \\\n",
    "  .max(lambda x: x[1])\n",
    "\n",
    "print(\"Genre combination with the highest average rating:\", highest_avg_genre_combination)"
   ]
  },
  {
   "cell_type": "markdown",
   "metadata": {
    "application/vnd.databricks.v1+cell": {
     "cellMetadata": {
      "byteLimit": 2048000,
      "rowLimit": 10000
     },
     "inputWidgets": {},
     "nuid": "82f2eccb-2c6b-46b4-97b4-4865ec799d81",
     "showTitle": false,
     "title": ""
    }
   },
   "source": [
    "**Q10** Movies can have multiple genres. What is **the individual genre** which is the most popular as meaured by number of votes. Votes for multiple genres count towards each genre listed. Hint: flatmap and pairedRDD's will be useful here."
   ]
  },
  {
   "cell_type": "code",
   "execution_count": null,
   "metadata": {
    "application/vnd.databricks.v1+cell": {
     "cellMetadata": {
      "byteLimit": 2048000,
      "rowLimit": 10000
     },
     "inputWidgets": {},
     "nuid": "94204293-2abf-4dd5-8471-7660aaf0e8dc",
     "showTitle": false,
     "title": ""
    }
   },
   "outputs": [],
   "source": [
    "# Filter out movies with None genres\n",
    "movies_with_genres = movies_ratings_rdd.filter(lambda x: x[1][0] is not None)"
   ]
  },
  {
   "cell_type": "code",
   "execution_count": null,
   "metadata": {
    "application/vnd.databricks.v1+cell": {
     "cellMetadata": {
      "byteLimit": 2048000,
      "rowLimit": 10000
     },
     "inputWidgets": {},
     "nuid": "496b6cc8-5866-4daa-a07c-13a91230fd45",
     "showTitle": false,
     "title": ""
    }
   },
   "outputs": [],
   "source": [
    "# flatten genres - create pairs of (genre, votes)\n",
    "genres_votes = movies_with_genres.flatMap(lambda x: [(genre, x[1][1][0]) for genre in x[1][0]])"
   ]
  },
  {
   "cell_type": "code",
   "execution_count": null,
   "metadata": {
    "application/vnd.databricks.v1+cell": {
     "cellMetadata": {
      "byteLimit": 2048000,
      "rowLimit": 10000
     },
     "inputWidgets": {},
     "nuid": "69bce0b8-117d-46db-a33b-67b33dc9b463",
     "showTitle": false,
     "title": ""
    }
   },
   "outputs": [],
   "source": [
    "# ReduceByKey to sum votes for each genre\n",
    "genre_vote_totals = genres_votes.reduceByKey(lambda x, y: x + y)"
   ]
  },
  {
   "cell_type": "code",
   "execution_count": null,
   "metadata": {
    "application/vnd.databricks.v1+cell": {
     "cellMetadata": {
      "byteLimit": 2048000,
      "rowLimit": 10000
     },
     "inputWidgets": {},
     "nuid": "2282ed42-1b53-4a11-90d4-2bb320697aed",
     "showTitle": false,
     "title": ""
    }
   },
   "outputs": [
    {
     "name": "stdout",
     "output_type": "stream",
     "text": [
      "Most popular genre by number of votes: ('Drama', 572280968)\n"
     ]
    }
   ],
   "source": [
    "# Find the genre with the maximum votes\n",
    "most_popular_genre = genre_vote_totals.max(lambda x: x[1])\n",
    "\n",
    "print(\"Most popular genre by number of votes:\", most_popular_genre)"
   ]
  },
  {
   "cell_type": "markdown",
   "metadata": {
    "application/vnd.databricks.v1+cell": {
     "cellMetadata": {
      "byteLimit": 2048000,
      "rowLimit": 10000
     },
     "inputWidgets": {},
     "nuid": "5c34dffe-aaee-419a-a24a-91c5b590760f",
     "showTitle": false,
     "title": ""
    }
   },
   "source": [
    "## Engineering the perfect cast\n",
    "We have created a number of potential features for predicting the rating of a movie based on its cast. Use sparkML to build a simple linear model to predict the rating of a movie based on the following features:\n",
    "\n",
    "1. The total number of movies in which the actors / actresses have acted (based on Q3)\n",
    "1. The average pagerank of the cast in each movie (based on Q5)\n",
    "1. The average outDegree of the cast in each movie (based on Q6)\n",
    "1. The average value for for the cast of degrees of Kevin Bacon (based on Q7).\n",
    "\n",
    "You will need to create a dataframe with the required features and label. Use a pipeline to create the vectors required by sparkML and apply the model. Remember to split your dataset, leave 30% of the data for testing, when splitting your data use the option seed=0.\n",
    "\n",
    "**Q11** Provide the coefficients of the regression and the accuracy of your model on that test dataset according to RSME."
   ]
  },
  {
   "cell_type": "markdown",
   "metadata": {
    "application/vnd.databricks.v1+cell": {
     "cellMetadata": {
      "byteLimit": 2048000,
      "rowLimit": 10000
     },
     "inputWidgets": {},
     "nuid": "99448cfe-f7b8-44db-9cc2-1b9790dbe5b6",
     "showTitle": false,
     "title": ""
    }
   },
   "source": [
    "Transform movie_count_rdd to a Data Frame"
   ]
  },
  {
   "cell_type": "code",
   "execution_count": null,
   "metadata": {
    "application/vnd.databricks.v1+cell": {
     "cellMetadata": {
      "byteLimit": 2048000,
      "rowLimit": 10000
     },
     "inputWidgets": {},
     "nuid": "5ba1d4e3-35d2-4c84-863c-7c40889bb624",
     "showTitle": false,
     "title": ""
    }
   },
   "outputs": [],
   "source": [
    "movie_count_schema = StructType([       \n",
    "    StructField('actor', StructType([\n",
    "      StructField('nconst', StringType(), True),\n",
    "      StructField('primaryName', StringType(), True)  \n",
    "    ]), True),\n",
    "    StructField('n_movies', StringType(), True)\n",
    "])\n",
    "\n",
    "movie_counts_df = movies_count_rdd.toDF(schema=movie_count_schema)"
   ]
  },
  {
   "cell_type": "code",
   "execution_count": null,
   "metadata": {
    "application/vnd.databricks.v1+cell": {
     "cellMetadata": {
      "byteLimit": 2048000,
      "rowLimit": 10000
     },
     "inputWidgets": {},
     "nuid": "95b512dd-b2e1-4250-8b3d-c8a50657d496",
     "showTitle": false,
     "title": ""
    },
    "vscode": {
     "languageId": "python"
    }
   },
   "outputs": [
    {
     "data": {
      "text/html": [
       "<style scoped>\n",
       "  .table-result-container {\n",
       "    max-height: 300px;\n",
       "    overflow: auto;\n",
       "  }\n",
       "  table, th, td {\n",
       "    border: 1px solid black;\n",
       "    border-collapse: collapse;\n",
       "  }\n",
       "  th, td {\n",
       "    padding: 5px;\n",
       "  }\n",
       "  th {\n",
       "    text-align: left;\n",
       "  }\n",
       "</style><div class='table-result-container'><table class='table-result'><thead style='background-color: white'><tr><th>tconst</th><th>n_movies</th><th>avg_distance_to_kevin_bacon</th><th>avg_out_degree</th><th>avg_pagerank</th><th>avg_rating</th><th>numVotes</th></tr></thead><tbody><tr><td>tt0040483</td><td>2.0</td><td>20.0</td><td>1.0</td><td>1.0502618046180614</td><td>4.8</td><td>19</td></tr><tr><td>tt0040695</td><td>19.0</td><td>3.0</td><td>12.0</td><td>2.173982233151124</td><td>7.1</td><td>4589</td></tr><tr><td>tt0043858</td><td>8.0</td><td>4.0</td><td>2.0</td><td>0.21396403549953383</td><td>4.9</td><td>20</td></tr><tr><td>tt0044431</td><td>17.0</td><td>3.0</td><td>5.0</td><td>0.6110460740928226</td><td>6.1</td><td>284</td></tr><tr><td>tt0044770</td><td>22.0</td><td>2.5</td><td>4.5</td><td>0.4732553094990344</td><td>6.3</td><td>77</td></tr></tbody></table></div>"
      ]
     },
     "metadata": {
      "application/vnd.databricks.v1+output": {
       "addedWidgets": {},
       "aggData": [],
       "aggError": "",
       "aggOverflow": false,
       "aggSchema": [],
       "aggSeriesLimitReached": false,
       "aggType": "",
       "arguments": {},
       "columnCustomDisplayInfos": {},
       "data": [
        [
         "tt0040483",
         2,
         20,
         1,
         1.0502618046180614,
         4.8,
         19
        ],
        [
         "tt0040695",
         19,
         3,
         12,
         2.173982233151124,
         7.1,
         4589
        ],
        [
         "tt0043858",
         8,
         4,
         2,
         0.21396403549953383,
         4.9,
         20
        ],
        [
         "tt0044431",
         17,
         3,
         5,
         0.6110460740928226,
         6.1,
         284
        ],
        [
         "tt0044770",
         22,
         2.5,
         4.5,
         0.4732553094990344,
         6.3,
         77
        ]
       ],
       "datasetInfos": [],
       "dbfsResultPath": null,
       "isJsonSchema": true,
       "metadata": {},
       "overflow": false,
       "plotOptions": {
        "customPlotOptions": {},
        "displayType": "table",
        "pivotAggregation": null,
        "pivotColumns": null,
        "xColumns": null,
        "yColumns": null
       },
       "removedWidgets": [],
       "schema": [
        {
         "metadata": "{}",
         "name": "tconst",
         "type": "\"string\""
        },
        {
         "metadata": "{}",
         "name": "n_movies",
         "type": "\"double\""
        },
        {
         "metadata": "{}",
         "name": "avg_distance_to_kevin_bacon",
         "type": "\"double\""
        },
        {
         "metadata": "{}",
         "name": "avg_out_degree",
         "type": "\"double\""
        },
        {
         "metadata": "{}",
         "name": "avg_pagerank",
         "type": "\"double\""
        },
        {
         "metadata": "{}",
         "name": "avg_rating",
         "type": "\"double\""
        },
        {
         "metadata": "{}",
         "name": "numVotes",
         "type": "\"long\""
        }
       ],
       "type": "table"
      }
     },
     "output_type": "display_data"
    }
   ],
   "source": [
    "aggregated_df = title_principals_df.join(movie_counts_df, movie_counts_df['actor']['nconst'] == title_principals_df['nconst']) \\\n",
    "  .join(pageRanksDf, \"nconst\") \\\n",
    "  .join(outDegreesDf, \"nconst\") \\\n",
    "  .join(distance_to_kevin_bacon_df, \"nconst\") \\\n",
    "  .groupBy('tconst') \\\n",
    "  .agg({\n",
    "    'n_movies': 'sum',\n",
    "    'pagerank': 'mean',\n",
    "    'outDegree': 'mean',\n",
    "    'distance_to_kevin_bacon': 'mean'\n",
    "  })\n",
    "\n",
    "aggregated_df = aggregated_df.join(title_ratings_df, 'tconst')\n",
    "  \n",
    "# Rename the columns to be easier to use in the pipeline:\n",
    "\n",
    "aggregated_df = aggregated_df \\\n",
    "  .withColumnRenamed('sum(n_movies)', 'n_movies') \\\n",
    "  .withColumnRenamed('avg(distance_to_kevin_bacon)', 'avg_distance_to_kevin_bacon') \\\n",
    "  .withColumnRenamed('avg(outDegree)', 'avg_out_degree') \\\n",
    "  .withColumnRenamed('avg(pagerank)', 'avg_pagerank') \\\n",
    "  .withColumnRenamed('averageRating', 'avg_rating') \\\n",
    "  .cache()\n",
    "\n",
    "display(aggregated_df.head(5))"
   ]
  },
  {
   "cell_type": "markdown",
   "metadata": {
    "application/vnd.databricks.v1+cell": {
     "cellMetadata": {
      "byteLimit": 2048000,
      "rowLimit": 10000
     },
     "inputWidgets": {},
     "nuid": "581f595b-179a-44b3-bfdd-2a0d52d0602f",
     "showTitle": false,
     "title": ""
    }
   },
   "source": [
    "### Linear Regression"
   ]
  },
  {
   "cell_type": "markdown",
   "metadata": {
    "application/vnd.databricks.v1+cell": {
     "cellMetadata": {
      "byteLimit": 2048000,
      "rowLimit": 10000
     },
     "inputWidgets": {},
     "nuid": "c4230fcf-f527-4775-9b89-5cbd0b9cb7c0",
     "showTitle": false,
     "title": ""
    }
   },
   "source": [
    "Create the ML Pipeline"
   ]
  },
  {
   "cell_type": "code",
   "execution_count": null,
   "metadata": {
    "application/vnd.databricks.v1+cell": {
     "cellMetadata": {
      "byteLimit": 2048000,
      "rowLimit": 10000
     },
     "inputWidgets": {},
     "nuid": "72513872-755d-4eb9-bdc4-1273685bff6c",
     "showTitle": false,
     "title": ""
    }
   },
   "outputs": [],
   "source": [
    "imputer = MF.Imputer(  \n",
    "    strategy=\"mean\",\n",
    "    inputCols=[\"n_movies\", \"avg_distance_to_kevin_bacon\", \"avg_out_degree\", \"avg_pagerank\"],\n",
    "    outputCols=[\"n_movies_i\", \"avg_distance_to_kevin_bacon_i\", \"avg_out_degree_i\", \"avg_pagerank_i\"],\n",
    ")\n",
    "\n",
    "continuous_assembler = MF.VectorAssembler(  \n",
    "    inputCols=[\"n_movies_i\", \"avg_distance_to_kevin_bacon_i\", \"avg_out_degree_i\", \"avg_pagerank_i\"],\n",
    "    outputCol=\"continuous\",\n",
    ")\n",
    "\n",
    "continuous_scaler = MF.MinMaxScaler(  \n",
    "    inputCol=\"continuous\",\n",
    "    outputCol=\"features\",\n",
    ")\n",
    "\n",
    "lr = LinearRegression(\n",
    "    featuresCol=\"features\", labelCol=\"avg_rating\", predictionCol=\"prediction\"\n",
    ")\n",
    "\n",
    "pipeline = Pipeline(stages=[imputer, continuous_assembler, continuous_scaler, lr])"
   ]
  },
  {
   "cell_type": "markdown",
   "metadata": {
    "application/vnd.databricks.v1+cell": {
     "cellMetadata": {
      "byteLimit": 2048000,
      "rowLimit": 10000
     },
     "inputWidgets": {},
     "nuid": "57f7f4a3-75a8-4bab-ba3a-e76f6e3ae742",
     "showTitle": false,
     "title": ""
    }
   },
   "source": [
    "Train/Test split + Predictions"
   ]
  },
  {
   "cell_type": "code",
   "execution_count": null,
   "metadata": {
    "application/vnd.databricks.v1+cell": {
     "cellMetadata": {
      "byteLimit": 2048000,
      "rowLimit": 10000
     },
     "inputWidgets": {},
     "nuid": "5c1065c7-d745-411c-b4a2-7e844ee96590",
     "showTitle": false,
     "title": ""
    }
   },
   "outputs": [],
   "source": [
    "train, test = aggregated_df.randomSplit([0.7, 0.3], seed = 0)\n",
    "\n",
    "train.cache()\n",
    "\n",
    "pipeline_model = pipeline.fit(train)\n",
    "results = pipeline_model.transform(test)"
   ]
  },
  {
   "cell_type": "code",
   "execution_count": null,
   "metadata": {
    "application/vnd.databricks.v1+cell": {
     "cellMetadata": {
      "byteLimit": 2048000,
      "rowLimit": 10000
     },
     "inputWidgets": {},
     "nuid": "bf0ea600-4ff9-4021-a3df-e729af62a2a9",
     "showTitle": false,
     "title": ""
    }
   },
   "outputs": [
    {
     "name": "stdout",
     "output_type": "stream",
     "text": [
      "Linear Regression Model intercept: 7.156209262374765, coefficients: [-3.8495174061719855,-0.4761521698071885,4.762847671493903,-7.138299027008857]\n"
     ]
    }
   ],
   "source": [
    "intercept = pipeline_model.stages[-1].intercept\n",
    "coefficients = pipeline_model.stages[-1].coefficients\n",
    "\n",
    "print(f\"Linear Regression Model intercept: {intercept}, coefficients: {coefficients}\")"
   ]
  },
  {
   "cell_type": "code",
   "execution_count": null,
   "metadata": {
    "application/vnd.databricks.v1+cell": {
     "cellMetadata": {
      "byteLimit": 2048000,
      "rowLimit": 10000
     },
     "inputWidgets": {},
     "nuid": "abe1c67e-81de-4da2-b4b8-43302b8cc4ce",
     "showTitle": false,
     "title": ""
    }
   },
   "outputs": [],
   "source": [
    "evaluator = RegressionEvaluator(labelCol=\"avg_rating\", predictionCol=\"prediction\", metricName=\"rmse\")"
   ]
  },
  {
   "cell_type": "code",
   "execution_count": null,
   "metadata": {
    "application/vnd.databricks.v1+cell": {
     "cellMetadata": {
      "byteLimit": 2048000,
      "rowLimit": 10000
     },
     "inputWidgets": {},
     "nuid": "fd0e459b-0b5c-48af-abcc-0f5f02ab329a",
     "showTitle": false,
     "title": ""
    }
   },
   "outputs": [
    {
     "name": "stdout",
     "output_type": "stream",
     "text": [
      "Root Mean Squared Error (RMSE) on test data: 1.349\n"
     ]
    }
   ],
   "source": [
    "rmse = evaluator.evaluate(results)\n",
    "print(\"Root Mean Squared Error (RMSE) on test data: {:.3f}\".format(rmse))"
   ]
  },
  {
   "cell_type": "markdown",
   "metadata": {
    "application/vnd.databricks.v1+cell": {
     "cellMetadata": {
      "byteLimit": 2048000,
      "rowLimit": 10000
     },
     "inputWidgets": {},
     "nuid": "401ea2c4-481b-449f-b2d0-5c482f27d0c1",
     "showTitle": false,
     "title": ""
    }
   },
   "source": [
    "**Q12** What score would your model predict for the 1997 movie Titanic."
   ]
  },
  {
   "cell_type": "code",
   "execution_count": null,
   "metadata": {
    "application/vnd.databricks.v1+cell": {
     "cellMetadata": {
      "byteLimit": 2048000,
      "rowLimit": 10000
     },
     "inputWidgets": {},
     "nuid": "731037d2-1f59-4d24-8bed-228c10993e5c",
     "showTitle": false,
     "title": ""
    }
   },
   "outputs": [],
   "source": [
    "def get_titanic_df(feats_df):\n",
    "  # Here we had to play a little with aliases because the join were duplicating the runtimeMinutes columns\n",
    "  # and for that particular function, we only need to return the columns that are already present in the feature df\n",
    "  titanic_df = feats_df.alias(\"feats_df\").join(title_basics_df_preprocessed.alias(\"title_basics_df\"), \"tconst\") \\\n",
    "    .where(\n",
    "      (col(\"title_basics_df.primaryTitle\") == \"Titanic\") &\n",
    "      (col(\"title_basics_df.startYear\") == 1997) &\n",
    "      (col(\"title_basics_df.titleType\") == \"movie\")\n",
    "    ).select(\"feats_df.*\") # This line to the trick\n",
    "\n",
    "  return titanic_df"
   ]
  },
  {
   "cell_type": "code",
   "execution_count": null,
   "metadata": {
    "application/vnd.databricks.v1+cell": {
     "cellMetadata": {
      "byteLimit": 2048000,
      "rowLimit": 10000
     },
     "inputWidgets": {},
     "nuid": "d8d29b20-5391-4079-92f0-e48c328d57b0",
     "showTitle": false,
     "title": ""
    }
   },
   "outputs": [],
   "source": [
    "def view_titanic_actual_rating_vs_prediction(titanic_df, model):\n",
    "  titanic_results = model.transform(titanic_df)\n",
    "  titanic_prediction = titanic_results \\\n",
    "    .select(\n",
    "      col('avg_rating').alias('Actual Avg Rating'),\n",
    "      col('prediction').alias('Predicted Avg Rating')\n",
    "    ).collect()\n",
    "\n",
    "  display(titanic_prediction)"
   ]
  },
  {
   "cell_type": "markdown",
   "metadata": {
    "application/vnd.databricks.v1+cell": {
     "cellMetadata": {
      "byteLimit": 2048000,
      "rowLimit": 10000
     },
     "inputWidgets": {},
     "nuid": "ddda233d-3f38-439b-a8e6-9d9e90b87f1f",
     "showTitle": false,
     "title": ""
    }
   },
   "source": [
    "View Actual Rating vs Predicted Rating for Titanic:"
   ]
  },
  {
   "cell_type": "code",
   "execution_count": null,
   "metadata": {
    "application/vnd.databricks.v1+cell": {
     "cellMetadata": {
      "byteLimit": 2048000,
      "rowLimit": 10000
     },
     "inputWidgets": {},
     "nuid": "b3954611-8581-4c80-af6b-502fdcc5b32b",
     "showTitle": false,
     "title": ""
    }
   },
   "outputs": [
    {
     "data": {
      "text/html": [
       "<style scoped>\n",
       "  .table-result-container {\n",
       "    max-height: 300px;\n",
       "    overflow: auto;\n",
       "  }\n",
       "  table, th, td {\n",
       "    border: 1px solid black;\n",
       "    border-collapse: collapse;\n",
       "  }\n",
       "  th, td {\n",
       "    padding: 5px;\n",
       "  }\n",
       "  th {\n",
       "    text-align: left;\n",
       "  }\n",
       "</style><div class='table-result-container'><table class='table-result'><thead style='background-color: white'><tr><th>Actual Avg Rating</th><th>Predicted Avg Rating</th></tr></thead><tbody><tr><td>7.9</td><td>6.625432087706436</td></tr></tbody></table></div>"
      ]
     },
     "metadata": {
      "application/vnd.databricks.v1+output": {
       "addedWidgets": {},
       "aggData": [],
       "aggError": "",
       "aggOverflow": false,
       "aggSchema": [],
       "aggSeriesLimitReached": false,
       "aggType": "",
       "arguments": {},
       "columnCustomDisplayInfos": {},
       "data": [
        [
         7.9,
         6.625432087706436
        ]
       ],
       "datasetInfos": [],
       "dbfsResultPath": null,
       "isJsonSchema": true,
       "metadata": {},
       "overflow": false,
       "plotOptions": {
        "customPlotOptions": {},
        "displayType": "table",
        "pivotAggregation": null,
        "pivotColumns": null,
        "xColumns": null,
        "yColumns": null
       },
       "removedWidgets": [],
       "schema": [
        {
         "metadata": "{}",
         "name": "Actual Avg Rating",
         "type": "\"double\""
        },
        {
         "metadata": "{}",
         "name": "Predicted Avg Rating",
         "type": "\"double\""
        }
       ],
       "type": "table"
      }
     },
     "output_type": "display_data"
    }
   ],
   "source": [
    "titanic_df = get_titanic_df(aggregated_df)\n",
    "view_titanic_actual_rating_vs_prediction(titanic_df, pipeline_model)"
   ]
  },
  {
   "cell_type": "markdown",
   "metadata": {
    "application/vnd.databricks.v1+cell": {
     "cellMetadata": {
      "byteLimit": 2048000,
      "rowLimit": 10000
     },
     "inputWidgets": {},
     "nuid": "8489978a-4c37-452f-84c9-5e24498998c9",
     "showTitle": false,
     "title": ""
    }
   },
   "source": [
    "**Q13** Create dummy variables for each of the top 10 movie genres for Q10. These variable should have a value of 1 if the movie was rated with that genre and 0 otherwise. For example the 1997 movie Titanic should have a 1 in the dummy variable column for Romance, and a 1 in the dummy variable column for Drama, and 0's in all the other dummy variable columns.\n",
    "\n",
    "Does adding these variable to the regression improve your results? What is the new RMSE and predicted rating for the 1997 movie Titanic."
   ]
  },
  {
   "cell_type": "code",
   "execution_count": null,
   "metadata": {
    "application/vnd.databricks.v1+cell": {
     "cellMetadata": {
      "byteLimit": 2048000,
      "rowLimit": 10000
     },
     "inputWidgets": {},
     "nuid": "e43446d4-4306-46d7-b784-c2e861a6a5b2",
     "showTitle": false,
     "title": ""
    },
    "vscode": {
     "languageId": "python"
    }
   },
   "outputs": [
    {
     "name": "stdout",
     "output_type": "stream",
     "text": [
      "['Drama', 'Action', 'Comedy', 'Adventure', 'Crime', 'Thriller', 'Sci-Fi', 'Romance', 'Mystery', 'Horror']\n"
     ]
    }
   ],
   "source": [
    "top10_genres = genre_vote_totals.sortBy(lambda x: x[1], ascending=False) \\\n",
    "  .map(lambda x: x[0]) \\\n",
    "  .take(10)\n",
    "\n",
    "print(top10_genres)"
   ]
  },
  {
   "cell_type": "code",
   "execution_count": null,
   "metadata": {
    "application/vnd.databricks.v1+cell": {
     "cellMetadata": {
      "byteLimit": 2048000,
      "rowLimit": 10000
     },
     "inputWidgets": {},
     "nuid": "91e47112-816e-4d91-b891-d3ea4a757503",
     "showTitle": false,
     "title": ""
    }
   },
   "outputs": [],
   "source": [
    "aggregated_df_with_genres = aggregated_df.join(title_basics_df_preprocessed, \"tconst\")\n",
    "\n",
    "for genre in top10_genres:\n",
    "  aggregated_df_with_genres = aggregated_df_with_genres.withColumn(genre, f.when(f.array_contains(f.col('genres'), genre), f.lit(1)).otherwise(f.lit(0)))"
   ]
  },
  {
   "cell_type": "code",
   "execution_count": null,
   "metadata": {
    "application/vnd.databricks.v1+cell": {
     "cellMetadata": {
      "byteLimit": 2048000,
      "rowLimit": 10000
     },
     "inputWidgets": {},
     "nuid": "3aaa43cf-cf4e-4985-adec-1bf69cb9482f",
     "showTitle": false,
     "title": ""
    }
   },
   "outputs": [
    {
     "data": {
      "text/html": [
       "<style scoped>\n",
       "  .table-result-container {\n",
       "    max-height: 300px;\n",
       "    overflow: auto;\n",
       "  }\n",
       "  table, th, td {\n",
       "    border: 1px solid black;\n",
       "    border-collapse: collapse;\n",
       "  }\n",
       "  th, td {\n",
       "    padding: 5px;\n",
       "  }\n",
       "  th {\n",
       "    text-align: left;\n",
       "  }\n",
       "</style><div class='table-result-container'><table class='table-result'><thead style='background-color: white'><tr><th>tconst</th><th>n_movies</th><th>avg_distance_to_kevin_bacon</th><th>avg_out_degree</th><th>avg_pagerank</th><th>avg_rating</th><th>numVotes</th><th>titleType</th><th>primaryTitle</th><th>originalTitle</th><th>isAdult</th><th>startYear</th><th>endYear</th><th>runtimeMinutes</th><th>genres</th><th>Drama</th><th>Action</th><th>Comedy</th><th>Adventure</th><th>Crime</th><th>Thriller</th><th>Sci-Fi</th><th>Romance</th><th>Mystery</th><th>Horror</th></tr></thead><tbody><tr><td>tt0120338</td><td>317.0</td><td>2.0</td><td>292.6666666666667</td><td>9.702508039423831</td><td>7.9</td><td>1286735</td><td>movie</td><td>Titanic</td><td>Titanic</td><td>0</td><td>1997</td><td>null</td><td>194</td><td>List(Drama, Romance)</td><td>1</td><td>0</td><td>0</td><td>0</td><td>0</td><td>0</td><td>0</td><td>1</td><td>0</td><td>0</td></tr></tbody></table></div>"
      ]
     },
     "metadata": {
      "application/vnd.databricks.v1+output": {
       "addedWidgets": {},
       "aggData": [],
       "aggError": "",
       "aggOverflow": false,
       "aggSchema": [],
       "aggSeriesLimitReached": false,
       "aggType": "",
       "arguments": {},
       "columnCustomDisplayInfos": {},
       "data": [
        [
         "tt0120338",
         317,
         2,
         292.6666666666667,
         9.702508039423831,
         7.9,
         1286735,
         "movie",
         "Titanic",
         "Titanic",
         0,
         1997,
         null,
         194,
         [
          "Drama",
          "Romance"
         ],
         1,
         0,
         0,
         0,
         0,
         0,
         0,
         1,
         0,
         0
        ]
       ],
       "datasetInfos": [],
       "dbfsResultPath": null,
       "isJsonSchema": true,
       "metadata": {},
       "overflow": false,
       "plotOptions": {
        "customPlotOptions": {},
        "displayType": "table",
        "pivotAggregation": null,
        "pivotColumns": null,
        "xColumns": null,
        "yColumns": null
       },
       "removedWidgets": [],
       "schema": [
        {
         "metadata": "{}",
         "name": "tconst",
         "type": "\"string\""
        },
        {
         "metadata": "{}",
         "name": "n_movies",
         "type": "\"double\""
        },
        {
         "metadata": "{}",
         "name": "avg_distance_to_kevin_bacon",
         "type": "\"double\""
        },
        {
         "metadata": "{}",
         "name": "avg_out_degree",
         "type": "\"double\""
        },
        {
         "metadata": "{}",
         "name": "avg_pagerank",
         "type": "\"double\""
        },
        {
         "metadata": "{}",
         "name": "avg_rating",
         "type": "\"double\""
        },
        {
         "metadata": "{}",
         "name": "numVotes",
         "type": "\"integer\""
        },
        {
         "metadata": "{}",
         "name": "titleType",
         "type": "\"string\""
        },
        {
         "metadata": "{}",
         "name": "primaryTitle",
         "type": "\"string\""
        },
        {
         "metadata": "{}",
         "name": "originalTitle",
         "type": "\"string\""
        },
        {
         "metadata": "{}",
         "name": "isAdult",
         "type": "\"integer\""
        },
        {
         "metadata": "{}",
         "name": "startYear",
         "type": "\"integer\""
        },
        {
         "metadata": "{}",
         "name": "endYear",
         "type": "\"integer\""
        },
        {
         "metadata": "{}",
         "name": "runtimeMinutes",
         "type": "\"integer\""
        },
        {
         "metadata": "{}",
         "name": "genres",
         "type": "{\"type\":\"array\",\"elementType\":\"string\",\"containsNull\":false}"
        },
        {
         "metadata": "{}",
         "name": "Drama",
         "type": "\"integer\""
        },
        {
         "metadata": "{}",
         "name": "Action",
         "type": "\"integer\""
        },
        {
         "metadata": "{}",
         "name": "Comedy",
         "type": "\"integer\""
        },
        {
         "metadata": "{}",
         "name": "Adventure",
         "type": "\"integer\""
        },
        {
         "metadata": "{}",
         "name": "Crime",
         "type": "\"integer\""
        },
        {
         "metadata": "{}",
         "name": "Thriller",
         "type": "\"integer\""
        },
        {
         "metadata": "{}",
         "name": "Sci-Fi",
         "type": "\"integer\""
        },
        {
         "metadata": "{}",
         "name": "Romance",
         "type": "\"integer\""
        },
        {
         "metadata": "{}",
         "name": "Mystery",
         "type": "\"integer\""
        },
        {
         "metadata": "{}",
         "name": "Horror",
         "type": "\"integer\""
        }
       ],
       "type": "table"
      }
     },
     "output_type": "display_data"
    }
   ],
   "source": [
    "# Print Titanic information to check if the dummies are correct\n",
    "aggregated_df_with_genres.where(col(\"tconst\") == 'tt0120338').display()"
   ]
  },
  {
   "cell_type": "markdown",
   "metadata": {
    "application/vnd.databricks.v1+cell": {
     "cellMetadata": {
      "byteLimit": 2048000,
      "rowLimit": 10000
     },
     "inputWidgets": {},
     "nuid": "abfd8d26-8f3a-4ae3-8725-51231e704b25",
     "showTitle": false,
     "title": ""
    }
   },
   "source": [
    "Create the ML pipeline using the categorical variables:"
   ]
  },
  {
   "cell_type": "code",
   "execution_count": null,
   "metadata": {
    "application/vnd.databricks.v1+cell": {
     "cellMetadata": {
      "byteLimit": 2048000,
      "rowLimit": 10000
     },
     "inputWidgets": {},
     "nuid": "817a5d80-dce9-4ad5-aa71-0016a66fc9eb",
     "showTitle": false,
     "title": ""
    }
   },
   "outputs": [],
   "source": [
    "imputer = MF.Imputer(  \n",
    "    strategy=\"mean\",\n",
    "    inputCols=[\"n_movies\", \"avg_distance_to_kevin_bacon\", \"avg_out_degree\", \"avg_pagerank\"],\n",
    "    outputCols=[\"n_movies_i\", \"avg_distance_to_kevin_bacon_i\", \"avg_out_degree_i\", \"avg_pagerank_i\"],\n",
    ")\n",
    "\n",
    "continuous_assembler = MF.VectorAssembler(  \n",
    "    inputCols=[\"n_movies_i\", \"avg_distance_to_kevin_bacon_i\", \"avg_out_degree_i\", \"avg_pagerank_i\"],\n",
    "    outputCol=\"continuous\",\n",
    ")\n",
    "\n",
    "continuous_scaler = MF.MinMaxScaler(  \n",
    "    inputCol=\"continuous\",\n",
    "    outputCol=\"features_scaled\",\n",
    ")\n",
    "\n",
    "categorical_assembler = MF.VectorAssembler(\n",
    "    inputCols=top10_genres + [\"features_scaled\"],\n",
    "    outputCol=\"features\"\n",
    ")\n",
    "\n",
    "lr = LinearRegression(\n",
    "    featuresCol=\"features\", labelCol=\"avg_rating\", predictionCol=\"prediction\"\n",
    ")\n",
    "\n",
    "pipeline_w_dummies = Pipeline(stages=[imputer, continuous_assembler, continuous_scaler, categorical_assembler, lr])"
   ]
  },
  {
   "cell_type": "code",
   "execution_count": null,
   "metadata": {
    "application/vnd.databricks.v1+cell": {
     "cellMetadata": {
      "byteLimit": 2048000,
      "rowLimit": 10000
     },
     "inputWidgets": {},
     "nuid": "ebb78c69-3a43-426e-b149-866741417987",
     "showTitle": false,
     "title": ""
    }
   },
   "outputs": [],
   "source": [
    "train_w_dummies, test_w_dummies = aggregated_df_with_genres.randomSplit([0.7, 0.3], seed = 0)\n",
    "\n",
    "train_w_dummies.cache()\n",
    "\n",
    "linear_regression_w_dummies = pipeline_w_dummies.fit(train_w_dummies)\n",
    "results_w_dummies = linear_regression_w_dummies.transform(test_w_dummies)"
   ]
  },
  {
   "cell_type": "code",
   "execution_count": null,
   "metadata": {
    "application/vnd.databricks.v1+cell": {
     "cellMetadata": {
      "byteLimit": 2048000,
      "rowLimit": 10000
     },
     "inputWidgets": {},
     "nuid": "30332ba1-115d-4f8d-8e84-3c3cdcf2ed11",
     "showTitle": false,
     "title": ""
    }
   },
   "outputs": [
    {
     "name": "stdout",
     "output_type": "stream",
     "text": [
      "Root Mean Squared Error (RMSE) on test data: 1.322\n"
     ]
    }
   ],
   "source": [
    "rmse = evaluator.evaluate(results_w_dummies)\n",
    "print(\"Root Mean Squared Error (RMSE) on test data: {:.3f}\".format(rmse))"
   ]
  },
  {
   "cell_type": "markdown",
   "metadata": {
    "application/vnd.databricks.v1+cell": {
     "cellMetadata": {
      "byteLimit": 2048000,
      "rowLimit": 10000
     },
     "inputWidgets": {},
     "nuid": "b2778d30-180b-4678-af27-10ac71207ad1",
     "showTitle": false,
     "title": ""
    }
   },
   "source": [
    "View Actual Rating vs Predicted Rating for Titanic:"
   ]
  },
  {
   "cell_type": "code",
   "execution_count": null,
   "metadata": {
    "application/vnd.databricks.v1+cell": {
     "cellMetadata": {
      "byteLimit": 2048000,
      "rowLimit": 10000
     },
     "inputWidgets": {},
     "nuid": "0b00cdf2-b547-42bb-ba24-bc80219b46d3",
     "showTitle": false,
     "title": ""
    }
   },
   "outputs": [
    {
     "data": {
      "text/html": [
       "<style scoped>\n",
       "  .table-result-container {\n",
       "    max-height: 300px;\n",
       "    overflow: auto;\n",
       "  }\n",
       "  table, th, td {\n",
       "    border: 1px solid black;\n",
       "    border-collapse: collapse;\n",
       "  }\n",
       "  th, td {\n",
       "    padding: 5px;\n",
       "  }\n",
       "  th {\n",
       "    text-align: left;\n",
       "  }\n",
       "</style><div class='table-result-container'><table class='table-result'><thead style='background-color: white'><tr><th>Actual Avg Rating</th><th>Predicted Avg Rating</th></tr></thead><tbody><tr><td>7.9</td><td>6.65981918791074</td></tr></tbody></table></div>"
      ]
     },
     "metadata": {
      "application/vnd.databricks.v1+output": {
       "addedWidgets": {},
       "aggData": [],
       "aggError": "",
       "aggOverflow": false,
       "aggSchema": [],
       "aggSeriesLimitReached": false,
       "aggType": "",
       "arguments": {},
       "columnCustomDisplayInfos": {},
       "data": [
        [
         7.9,
         6.65981918791074
        ]
       ],
       "datasetInfos": [],
       "dbfsResultPath": null,
       "isJsonSchema": true,
       "metadata": {},
       "overflow": false,
       "plotOptions": {
        "customPlotOptions": {},
        "displayType": "table",
        "pivotAggregation": null,
        "pivotColumns": null,
        "xColumns": null,
        "yColumns": null
       },
       "removedWidgets": [],
       "schema": [
        {
         "metadata": "{}",
         "name": "Actual Avg Rating",
         "type": "\"double\""
        },
        {
         "metadata": "{}",
         "name": "Predicted Avg Rating",
         "type": "\"double\""
        }
       ],
       "type": "table"
      }
     },
     "output_type": "display_data"
    }
   ],
   "source": [
    "titanic_df = get_titanic_df(aggregated_df_with_genres)\n",
    "view_titanic_actual_rating_vs_prediction(titanic_df, linear_regression_w_dummies)"
   ]
  },
  {
   "cell_type": "markdown",
   "metadata": {
    "application/vnd.databricks.v1+cell": {
     "cellMetadata": {
      "byteLimit": 2048000,
      "rowLimit": 10000
     },
     "inputWidgets": {},
     "nuid": "b851cfc5-8a54-40f5-b720-c9c703f2313c",
     "showTitle": false,
     "title": ""
    }
   },
   "source": [
    "**Q14 - Open Question**: Improve your model by testing different machine learning algorithms, using hyperparameter tuning on these algorithms, changing the included features. What is the RMSE of you final model and what rating does it predict for the 1997 movie Titanic."
   ]
  },
  {
   "cell_type": "code",
   "execution_count": null,
   "metadata": {
    "application/vnd.databricks.v1+cell": {
     "cellMetadata": {
      "byteLimit": 2048000,
      "rowLimit": 10000
     },
     "inputWidgets": {},
     "nuid": "e563d204-c6f6-4ba2-8a4c-cbddd6353740",
     "showTitle": false,
     "title": ""
    },
    "vscode": {
     "languageId": "python"
    }
   },
   "outputs": [],
   "source": [
    "# Just renaming\n",
    "features_df = aggregated_df_with_genres"
   ]
  },
  {
   "cell_type": "code",
   "execution_count": null,
   "metadata": {
    "application/vnd.databricks.v1+cell": {
     "cellMetadata": {
      "byteLimit": 2048000,
      "rowLimit": 10000
     },
     "inputWidgets": {},
     "nuid": "07a3fa16-4a8f-4c0d-aad1-26fd80e92e9c",
     "showTitle": false,
     "title": ""
    }
   },
   "outputs": [],
   "source": [
    "# Store Titanic DF that will be used by the models later, also cache it as it will be reused\n",
    "titanic_df = get_titanic_df(features_df).cache()"
   ]
  },
  {
   "cell_type": "code",
   "execution_count": null,
   "metadata": {
    "application/vnd.databricks.v1+cell": {
     "cellMetadata": {
      "byteLimit": 2048000,
      "rowLimit": 10000
     },
     "inputWidgets": {},
     "nuid": "e42fb4fd-2fb1-435e-922b-405c39bc4056",
     "showTitle": false,
     "title": ""
    }
   },
   "outputs": [
    {
     "name": "stdout",
     "output_type": "stream",
     "text": [
      "Out[88]: DataFrame[tconst: string, n_movies: double, avg_distance_to_kevin_bacon: double, avg_out_degree: double, avg_pagerank: double, avg_rating: double, numVotes: int, titleType: string, primaryTitle: string, originalTitle: string, isAdult: int, startYear: int, endYear: int, runtimeMinutes: int, genres: array<string>, Drama: int, Action: int, Comedy: int, Adventure: int, Crime: int, Thriller: int, Sci-Fi: int, Romance: int, Mystery: int, Horror: int]"
     ]
    }
   ],
   "source": [
    "train, test = features_df.randomSplit([0.7, 0.3], seed = 0)\n",
    "\n",
    "train.cache()"
   ]
  },
  {
   "cell_type": "code",
   "execution_count": null,
   "metadata": {
    "application/vnd.databricks.v1+cell": {
     "cellMetadata": {
      "byteLimit": 2048000,
      "rowLimit": 10000
     },
     "inputWidgets": {},
     "nuid": "43da212c-f109-4b66-9509-ef198ba4fe44",
     "showTitle": false,
     "title": ""
    }
   },
   "outputs": [],
   "source": [
    "\n",
    "imputer = MF.Imputer(  \n",
    "    strategy=\"mean\",\n",
    "    inputCols=[\"n_movies\", \"numVotes\", \"runtimeMinutes\", \"avg_distance_to_kevin_bacon\", \"avg_out_degree\", \"avg_pagerank\"],\n",
    "    outputCols=[\"n_movies_i\", \"numVotes_i\", \"runtimeMinutes_i\", \"avg_distance_to_kevin_bacon_i\", \"avg_out_degree_i\", \"avg_pagerank_i\"],\n",
    ")\n",
    "\n",
    "continuous_assembler = MF.VectorAssembler(  \n",
    "    inputCols=[\"n_movies_i\", \"numVotes_i\", \"runtimeMinutes_i\", \"avg_distance_to_kevin_bacon_i\", \"avg_out_degree_i\", \"avg_pagerank_i\"],\n",
    "    outputCol=\"continuous\",\n",
    ")\n",
    "\n",
    "continuous_scaler = MF.MinMaxScaler(  \n",
    "    inputCol=\"continuous\",\n",
    "    outputCol=\"features_scaled\",\n",
    ")\n",
    "\n",
    "categorical_assembler = MF.VectorAssembler(\n",
    "    inputCols=top10_genres + [\"features_scaled\"],\n",
    "    outputCol=\"features\"\n",
    ")"
   ]
  },
  {
   "cell_type": "markdown",
   "metadata": {
    "application/vnd.databricks.v1+cell": {
     "cellMetadata": {
      "byteLimit": 2048000,
      "rowLimit": 10000
     },
     "inputWidgets": {},
     "nuid": "6cfa9c81-1f64-4a38-9621-b3d44adc8d4d",
     "showTitle": false,
     "title": ""
    }
   },
   "source": [
    "### Random Forest Regressor"
   ]
  },
  {
   "cell_type": "markdown",
   "metadata": {
    "application/vnd.databricks.v1+cell": {
     "cellMetadata": {
      "byteLimit": 2048000,
      "rowLimit": 10000
     },
     "inputWidgets": {},
     "nuid": "2792a2f2-1220-40ce-96a1-0e935b2c1ee2",
     "showTitle": false,
     "title": ""
    }
   },
   "source": [
    "Build model:"
   ]
  },
  {
   "cell_type": "code",
   "execution_count": null,
   "metadata": {
    "application/vnd.databricks.v1+cell": {
     "cellMetadata": {
      "byteLimit": 2048000,
      "rowLimit": 10000
     },
     "inputWidgets": {},
     "nuid": "02c99d1d-c258-4995-a5c6-ee64873c0c2b",
     "showTitle": false,
     "title": ""
    }
   },
   "outputs": [],
   "source": [
    "random_forest = RandomForestRegressor(featuresCol=\"features\", labelCol=\"avg_rating\", seed=42, numTrees=20, maxDepth=5)\n",
    "\n",
    "random_forest_pipeline = Pipeline(stages=[imputer, continuous_assembler, continuous_scaler, categorical_assembler, random_forest])\n",
    "\n",
    "random_forest_pipeline_model = random_forest_pipeline.fit(train)\n",
    "results_random_forest =  random_forest_pipeline_model.transform(test)"
   ]
  },
  {
   "cell_type": "markdown",
   "metadata": {
    "application/vnd.databricks.v1+cell": {
     "cellMetadata": {
      "byteLimit": 2048000,
      "rowLimit": 10000
     },
     "inputWidgets": {},
     "nuid": "7fc49e50-6b1f-4263-84b7-6c8a45983268",
     "showTitle": false,
     "title": ""
    }
   },
   "source": [
    "Calculate RMSE:"
   ]
  },
  {
   "cell_type": "code",
   "execution_count": null,
   "metadata": {
    "application/vnd.databricks.v1+cell": {
     "cellMetadata": {
      "byteLimit": 2048000,
      "rowLimit": 10000
     },
     "inputWidgets": {},
     "nuid": "da70b719-75d6-488d-aa37-b72ae7d88201",
     "showTitle": false,
     "title": ""
    }
   },
   "outputs": [
    {
     "name": "stdout",
     "output_type": "stream",
     "text": [
      "Root Mean Squared Error (RMSE) on test data: 1.231\n"
     ]
    }
   ],
   "source": [
    "rmse = evaluator.evaluate(results_random_forest)\n",
    "print(\"Root Mean Squared Error (RMSE) on test data: {:.3f}\".format(rmse))"
   ]
  },
  {
   "cell_type": "markdown",
   "metadata": {
    "application/vnd.databricks.v1+cell": {
     "cellMetadata": {
      "byteLimit": 2048000,
      "rowLimit": 10000
     },
     "inputWidgets": {},
     "nuid": "2d86815d-d9e4-450d-9cb3-d03bab25bde9",
     "showTitle": false,
     "title": ""
    }
   },
   "source": [
    "View Actual Rating vs Predicted Rating for Titanic:"
   ]
  },
  {
   "cell_type": "code",
   "execution_count": null,
   "metadata": {
    "application/vnd.databricks.v1+cell": {
     "cellMetadata": {
      "byteLimit": 2048000,
      "rowLimit": 10000
     },
     "inputWidgets": {},
     "nuid": "184ffa01-0e62-467e-970a-cd4e599cdf93",
     "showTitle": false,
     "title": ""
    }
   },
   "outputs": [
    {
     "data": {
      "text/html": [
       "<style scoped>\n",
       "  .table-result-container {\n",
       "    max-height: 300px;\n",
       "    overflow: auto;\n",
       "  }\n",
       "  table, th, td {\n",
       "    border: 1px solid black;\n",
       "    border-collapse: collapse;\n",
       "  }\n",
       "  th, td {\n",
       "    padding: 5px;\n",
       "  }\n",
       "  th {\n",
       "    text-align: left;\n",
       "  }\n",
       "</style><div class='table-result-container'><table class='table-result'><thead style='background-color: white'><tr><th>Actual Avg Rating</th><th>Predicted Avg Rating</th></tr></thead><tbody><tr><td>7.9</td><td>6.551805073412251</td></tr></tbody></table></div>"
      ]
     },
     "metadata": {
      "application/vnd.databricks.v1+output": {
       "addedWidgets": {},
       "aggData": [],
       "aggError": "",
       "aggOverflow": false,
       "aggSchema": [],
       "aggSeriesLimitReached": false,
       "aggType": "",
       "arguments": {},
       "columnCustomDisplayInfos": {},
       "data": [
        [
         7.9,
         6.551805073412251
        ]
       ],
       "datasetInfos": [],
       "dbfsResultPath": null,
       "isJsonSchema": true,
       "metadata": {},
       "overflow": false,
       "plotOptions": {
        "customPlotOptions": {},
        "displayType": "table",
        "pivotAggregation": null,
        "pivotColumns": null,
        "xColumns": null,
        "yColumns": null
       },
       "removedWidgets": [],
       "schema": [
        {
         "metadata": "{}",
         "name": "Actual Avg Rating",
         "type": "\"double\""
        },
        {
         "metadata": "{}",
         "name": "Predicted Avg Rating",
         "type": "\"double\""
        }
       ],
       "type": "table"
      }
     },
     "output_type": "display_data"
    }
   ],
   "source": [
    "view_titanic_actual_rating_vs_prediction(titanic_df, random_forest_pipeline_model)"
   ]
  },
  {
   "cell_type": "markdown",
   "metadata": {
    "application/vnd.databricks.v1+cell": {
     "cellMetadata": {
      "byteLimit": 2048000,
      "rowLimit": 10000
     },
     "inputWidgets": {},
     "nuid": "a22f58fb-3503-41fa-9a35-c83c06f214a4",
     "showTitle": false,
     "title": ""
    }
   },
   "source": [
    "### Gradient-Boosted Trees"
   ]
  },
  {
   "cell_type": "markdown",
   "metadata": {
    "application/vnd.databricks.v1+cell": {
     "cellMetadata": {
      "byteLimit": 2048000,
      "rowLimit": 10000
     },
     "inputWidgets": {},
     "nuid": "3a408a48-5b08-440e-a346-917253f74d8e",
     "showTitle": false,
     "title": ""
    }
   },
   "source": [
    "Build model:"
   ]
  },
  {
   "cell_type": "code",
   "execution_count": null,
   "metadata": {
    "application/vnd.databricks.v1+cell": {
     "cellMetadata": {
      "byteLimit": 2048000,
      "rowLimit": 10000
     },
     "inputWidgets": {},
     "nuid": "6f4ac745-4adf-47b7-a5d3-e62b4d69e8fb",
     "showTitle": false,
     "title": ""
    }
   },
   "outputs": [],
   "source": [
    "gbt = GBTRegressor(featuresCol=\"features\", labelCol=\"avg_rating\", maxDepth=5, seed=42)\n",
    "\n",
    "gbt_pipeline = Pipeline(stages=[imputer, continuous_assembler, continuous_scaler, categorical_assembler, gbt])\n",
    "\n",
    "gbt_pipeline_model = gbt_pipeline.fit(train)\n",
    "results_gbt = gbt_pipeline_model.transform(test)"
   ]
  },
  {
   "cell_type": "markdown",
   "metadata": {
    "application/vnd.databricks.v1+cell": {
     "cellMetadata": {
      "byteLimit": 2048000,
      "rowLimit": 10000
     },
     "inputWidgets": {},
     "nuid": "b5c28906-f6c9-4912-a20a-1d337c13b7c0",
     "showTitle": false,
     "title": ""
    }
   },
   "source": [
    "Calculate RMSE:"
   ]
  },
  {
   "cell_type": "code",
   "execution_count": null,
   "metadata": {
    "application/vnd.databricks.v1+cell": {
     "cellMetadata": {
      "byteLimit": 2048000,
      "rowLimit": 10000
     },
     "inputWidgets": {},
     "nuid": "233cb161-e2af-46d7-8f45-95b97e9f9fe3",
     "showTitle": false,
     "title": ""
    }
   },
   "outputs": [
    {
     "name": "stdout",
     "output_type": "stream",
     "text": [
      "Root Mean Squared Error (RMSE) on test data: 1.206\n"
     ]
    }
   ],
   "source": [
    "rmse = evaluator.evaluate(results_gbt)\n",
    "print(\"Root Mean Squared Error (RMSE) on test data: {:.3f}\".format(rmse))"
   ]
  },
  {
   "cell_type": "markdown",
   "metadata": {
    "application/vnd.databricks.v1+cell": {
     "cellMetadata": {
      "byteLimit": 2048000,
      "rowLimit": 10000
     },
     "inputWidgets": {},
     "nuid": "7269f6d0-8dba-4f94-a805-e18e9c54f455",
     "showTitle": false,
     "title": ""
    }
   },
   "source": [
    "View Actual Rating vs Predicted Rating for Titanic:"
   ]
  },
  {
   "cell_type": "code",
   "execution_count": null,
   "metadata": {
    "application/vnd.databricks.v1+cell": {
     "cellMetadata": {
      "byteLimit": 2048000,
      "rowLimit": 10000
     },
     "inputWidgets": {},
     "nuid": "d11b68f9-9a90-4751-a047-5277383a10fd",
     "showTitle": false,
     "title": ""
    }
   },
   "outputs": [
    {
     "data": {
      "text/html": [
       "<style scoped>\n",
       "  .table-result-container {\n",
       "    max-height: 300px;\n",
       "    overflow: auto;\n",
       "  }\n",
       "  table, th, td {\n",
       "    border: 1px solid black;\n",
       "    border-collapse: collapse;\n",
       "  }\n",
       "  th, td {\n",
       "    padding: 5px;\n",
       "  }\n",
       "  th {\n",
       "    text-align: left;\n",
       "  }\n",
       "</style><div class='table-result-container'><table class='table-result'><thead style='background-color: white'><tr><th>Actual Avg Rating</th><th>Predicted Avg Rating</th></tr></thead><tbody><tr><td>7.9</td><td>7.113691138540517</td></tr></tbody></table></div>"
      ]
     },
     "metadata": {
      "application/vnd.databricks.v1+output": {
       "addedWidgets": {},
       "aggData": [],
       "aggError": "",
       "aggOverflow": false,
       "aggSchema": [],
       "aggSeriesLimitReached": false,
       "aggType": "",
       "arguments": {},
       "columnCustomDisplayInfos": {},
       "data": [
        [
         7.9,
         7.113691138540517
        ]
       ],
       "datasetInfos": [],
       "dbfsResultPath": null,
       "isJsonSchema": true,
       "metadata": {},
       "overflow": false,
       "plotOptions": {
        "customPlotOptions": {},
        "displayType": "table",
        "pivotAggregation": null,
        "pivotColumns": null,
        "xColumns": null,
        "yColumns": null
       },
       "removedWidgets": [],
       "schema": [
        {
         "metadata": "{}",
         "name": "Actual Avg Rating",
         "type": "\"double\""
        },
        {
         "metadata": "{}",
         "name": "Predicted Avg Rating",
         "type": "\"double\""
        }
       ],
       "type": "table"
      }
     },
     "output_type": "display_data"
    }
   ],
   "source": [
    "view_titanic_actual_rating_vs_prediction(titanic_df, gbt_pipeline_model)"
   ]
  },
  {
   "cell_type": "markdown",
   "metadata": {
    "application/vnd.databricks.v1+cell": {
     "cellMetadata": {
      "byteLimit": 2048000,
      "rowLimit": 10000
     },
     "inputWidgets": {},
     "nuid": "a56c9ef9-424d-4591-bafe-a147d9d9975a",
     "showTitle": false,
     "title": ""
    }
   },
   "source": [
    "### Hyperparameters tuning"
   ]
  },
  {
   "cell_type": "markdown",
   "metadata": {
    "application/vnd.databricks.v1+cell": {
     "cellMetadata": {
      "byteLimit": 2048000,
      "rowLimit": 10000
     },
     "inputWidgets": {},
     "nuid": "ae648041-3ea4-433d-915c-e8f335f82578",
     "showTitle": false,
     "title": ""
    }
   },
   "source": [
    "Let's apply hyperparameter tuning to GBT"
   ]
  },
  {
   "cell_type": "code",
   "execution_count": null,
   "metadata": {
    "application/vnd.databricks.v1+cell": {
     "cellMetadata": {
      "byteLimit": 2048000,
      "rowLimit": 10000
     },
     "inputWidgets": {},
     "nuid": "e95b818d-2e54-4e0f-9a1f-2084c86385e8",
     "showTitle": false,
     "title": ""
    }
   },
   "outputs": [],
   "source": [
    "grid_search = (\n",
    "    ParamGridBuilder() \n",
    "    .addGrid(gbt.maxDepth, [2, 5])\n",
    "    .addGrid(gbt.maxIter, [10, 30]) \n",
    "    .build()\n",
    ")"
   ]
  },
  {
   "cell_type": "code",
   "execution_count": null,
   "metadata": {
    "application/vnd.databricks.v1+cell": {
     "cellMetadata": {
      "byteLimit": 2048000,
      "rowLimit": 10000
     },
     "inputWidgets": {},
     "nuid": "08bf054a-be3b-4e42-8d2e-f2d621f09208",
     "showTitle": false,
     "title": ""
    }
   },
   "outputs": [],
   "source": [
    "cv = CrossValidator(\n",
    "    estimator=gbt_pipeline,\n",
    "    estimatorParamMaps=grid_search,\n",
    "    evaluator=evaluator,\n",
    "    numFolds=3,\n",
    "    seed=42,\n",
    "    collectSubModels=True,\n",
    "    parallelism=2 # Comment this line or set parallelism to 1 if using single node cluster\n",
    ")"
   ]
  },
  {
   "cell_type": "code",
   "execution_count": null,
   "metadata": {
    "application/vnd.databricks.v1+cell": {
     "cellMetadata": {
      "byteLimit": 2048000,
      "rowLimit": 10000
     },
     "inputWidgets": {},
     "nuid": "142836cb-72be-438a-83af-46b745beecd4",
     "showTitle": false,
     "title": ""
    }
   },
   "outputs": [
    {
     "name": "stdout",
     "output_type": "stream",
     "text": [
      "[1.2389238750900478, 1.2299268411510222, 1.211564077225533, 1.1945191709475644]\n"
     ]
    }
   ],
   "source": [
    "cv_model = cv.fit(train)\n",
    "print(cv_model.avgMetrics)"
   ]
  },
  {
   "cell_type": "code",
   "execution_count": null,
   "metadata": {
    "application/vnd.databricks.v1+cell": {
     "cellMetadata": {
      "byteLimit": 2048000,
      "rowLimit": 10000
     },
     "inputWidgets": {},
     "nuid": "52842fc3-4c3f-4d14-beef-4c15c3c5af53",
     "showTitle": false,
     "title": ""
    }
   },
   "outputs": [
    {
     "name": "stdout",
     "output_type": "stream",
     "text": [
      "Best model maxDepth =  5\n",
      "Best model maxIter =  30\n"
     ]
    }
   ],
   "source": [
    "cv_best_model = cv_model.bestModel\n",
    "print(\"Best model maxDepth = \", cv_best_model.stages[-1]._java_obj.getMaxDepth())\n",
    "print(\"Best model maxIter = \", cv_best_model.stages[-1]._java_obj.getMaxIter())"
   ]
  },
  {
   "cell_type": "code",
   "execution_count": null,
   "metadata": {
    "application/vnd.databricks.v1+cell": {
     "cellMetadata": {
      "byteLimit": 2048000,
      "rowLimit": 10000
     },
     "inputWidgets": {},
     "nuid": "7c1db79b-3c22-4039-afa2-febd6ea5dc7a",
     "showTitle": false,
     "title": ""
    }
   },
   "outputs": [],
   "source": [
    "results_cv =  cv_best_model.transform(test)"
   ]
  },
  {
   "cell_type": "markdown",
   "metadata": {
    "application/vnd.databricks.v1+cell": {
     "cellMetadata": {
      "byteLimit": 2048000,
      "rowLimit": 10000
     },
     "inputWidgets": {},
     "nuid": "30058db5-e478-4dde-aef5-8403e3a3f6c9",
     "showTitle": false,
     "title": ""
    }
   },
   "source": [
    "Calculate RMSE:"
   ]
  },
  {
   "cell_type": "code",
   "execution_count": null,
   "metadata": {
    "application/vnd.databricks.v1+cell": {
     "cellMetadata": {
      "byteLimit": 2048000,
      "rowLimit": 10000
     },
     "inputWidgets": {},
     "nuid": "87fbcbc2-f4ea-4691-baaf-6a0b6d5c4de7",
     "showTitle": false,
     "title": ""
    }
   },
   "outputs": [
    {
     "name": "stdout",
     "output_type": "stream",
     "text": [
      "Root Mean Squared Error (RMSE) on test data: 1.198\n"
     ]
    }
   ],
   "source": [
    "rmse = evaluator.evaluate(results_cv)\n",
    "print(\"Root Mean Squared Error (RMSE) on test data: {:.3f}\".format(rmse))"
   ]
  },
  {
   "cell_type": "markdown",
   "metadata": {
    "application/vnd.databricks.v1+cell": {
     "cellMetadata": {
      "byteLimit": 2048000,
      "rowLimit": 10000
     },
     "inputWidgets": {},
     "nuid": "c22e770b-0640-47c2-82b6-1fcd3a6d54a1",
     "showTitle": false,
     "title": ""
    }
   },
   "source": [
    "View Actual Rating vs Predicted Rating for Titanic:"
   ]
  },
  {
   "cell_type": "code",
   "execution_count": null,
   "metadata": {
    "application/vnd.databricks.v1+cell": {
     "cellMetadata": {
      "byteLimit": 2048000,
      "rowLimit": 10000
     },
     "inputWidgets": {},
     "nuid": "edac2f98-241e-485a-adbc-58c0349faa3b",
     "showTitle": false,
     "title": ""
    }
   },
   "outputs": [
    {
     "data": {
      "text/html": [
       "<style scoped>\n",
       "  .table-result-container {\n",
       "    max-height: 300px;\n",
       "    overflow: auto;\n",
       "  }\n",
       "  table, th, td {\n",
       "    border: 1px solid black;\n",
       "    border-collapse: collapse;\n",
       "  }\n",
       "  th, td {\n",
       "    padding: 5px;\n",
       "  }\n",
       "  th {\n",
       "    text-align: left;\n",
       "  }\n",
       "</style><div class='table-result-container'><table class='table-result'><thead style='background-color: white'><tr><th>Actual Avg Rating</th><th>Predicted Avg Rating</th></tr></thead><tbody><tr><td>7.9</td><td>7.032068008456022</td></tr></tbody></table></div>"
      ]
     },
     "metadata": {
      "application/vnd.databricks.v1+output": {
       "addedWidgets": {},
       "aggData": [],
       "aggError": "",
       "aggOverflow": false,
       "aggSchema": [],
       "aggSeriesLimitReached": false,
       "aggType": "",
       "arguments": {},
       "columnCustomDisplayInfos": {},
       "data": [
        [
         7.9,
         7.032068008456022
        ]
       ],
       "datasetInfos": [],
       "dbfsResultPath": null,
       "isJsonSchema": true,
       "metadata": {},
       "overflow": false,
       "plotOptions": {
        "customPlotOptions": {},
        "displayType": "table",
        "pivotAggregation": null,
        "pivotColumns": null,
        "xColumns": null,
        "yColumns": null
       },
       "removedWidgets": [],
       "schema": [
        {
         "metadata": "{}",
         "name": "Actual Avg Rating",
         "type": "\"double\""
        },
        {
         "metadata": "{}",
         "name": "Predicted Avg Rating",
         "type": "\"double\""
        }
       ],
       "type": "table"
      }
     },
     "output_type": "display_data"
    }
   ],
   "source": [
    "view_titanic_actual_rating_vs_prediction(titanic_df, cv_best_model)"
   ]
  },
  {
   "cell_type": "code",
   "execution_count": null,
   "metadata": {
    "application/vnd.databricks.v1+cell": {
     "cellMetadata": {},
     "inputWidgets": {},
     "nuid": "05d13511-b88d-4d22-a3f4-ae67858df367",
     "showTitle": false,
     "title": ""
    }
   },
   "outputs": [],
   "source": []
  }
 ],
 "metadata": {
  "application/vnd.databricks.v1+notebook": {
   "dashboards": [],
   "environmentMetadata": null,
   "language": "python",
   "notebookMetadata": {
    "mostRecentlyExecutedCommandWithImplicitDF": {
     "commandId": 4428842215240904,
     "dataframes": [
      "_sqldf"
     ]
    },
    "pythonIndentUnit": 2
   },
   "notebookName": "20230794_20230543_submission",
   "widgets": {}
  },
  "kernelspec": {
   "display_name": "Python 3 (ipykernel)",
   "language": "python",
   "name": "python3"
  },
  "language_info": {
   "codemirror_mode": {
    "name": "ipython",
    "version": 3
   },
   "file_extension": ".py",
   "mimetype": "text/x-python",
   "name": "python",
   "nbconvert_exporter": "python",
   "pygments_lexer": "ipython3",
   "version": "3.11.4"
  },
  "name": "Exam BDA AA 2020",
  "notebookId": 3446163725308994
 },
 "nbformat": 4,
 "nbformat_minor": 4
}
